{
 "cells": [
  {
   "cell_type": "code",
   "execution_count": 1,
   "id": "4d974398",
   "metadata": {
    "execution": {
     "iopub.execute_input": "2025-06-22T16:41:18.553988Z",
     "iopub.status.busy": "2025-06-22T16:41:18.553748Z",
     "iopub.status.idle": "2025-06-22T16:41:42.804206Z",
     "shell.execute_reply": "2025-06-22T16:41:42.803413Z"
    },
    "papermill": {
     "duration": 24.263205,
     "end_time": "2025-06-22T16:41:42.805687",
     "exception": false,
     "start_time": "2025-06-22T16:41:18.542482",
     "status": "completed"
    },
    "tags": []
   },
   "outputs": [
    {
     "name": "stderr",
     "output_type": "stream",
     "text": [
      "2025-06-22 16:41:26.043595: E external/local_xla/xla/stream_executor/cuda/cuda_fft.cc:477] Unable to register cuFFT factory: Attempting to register factory for plugin cuFFT when one has already been registered\n",
      "WARNING: All log messages before absl::InitializeLog() is called are written to STDERR\n",
      "E0000 00:00:1750610486.497768      19 cuda_dnn.cc:8310] Unable to register cuDNN factory: Attempting to register factory for plugin cuDNN when one has already been registered\n",
      "E0000 00:00:1750610486.615210      19 cuda_blas.cc:1418] Unable to register cuBLAS factory: Attempting to register factory for plugin cuBLAS when one has already been registered\n"
     ]
    }
   ],
   "source": [
    "import string\n",
    "import re\n",
    "import pandas as pd\n",
    "import numpy as np\n",
    "import seaborn as sns\n",
    "import matplotlib.pyplot as plt\n",
    "import tensorflow as tf\n",
    "#import tensorflow_recommenders as tfrs\n",
    "from collections import Counter\n",
    "from typing import Dict, Text\n",
    "from ast import literal_eval\n",
    "from datetime import datetime\n",
    "from wordcloud import WordCloud\n",
    "from sklearn.preprocessing import MinMaxScaler\n",
    "from sklearn.feature_extraction.text import TfidfVectorizer\n",
    "from sklearn.metrics.pairwise import cosine_similarity\n",
    "\n",
    "import warnings\n",
    "warnings.filterwarnings('ignore')"
   ]
  },
  {
   "cell_type": "code",
   "execution_count": 2,
   "id": "b6794c65",
   "metadata": {
    "execution": {
     "iopub.execute_input": "2025-06-22T16:41:42.830220Z",
     "iopub.status.busy": "2025-06-22T16:41:42.829753Z",
     "iopub.status.idle": "2025-06-22T16:41:48.659621Z",
     "shell.execute_reply": "2025-06-22T16:41:48.659069Z"
    },
    "papermill": {
     "duration": 5.843081,
     "end_time": "2025-06-22T16:41:48.661224",
     "exception": false,
     "start_time": "2025-06-22T16:41:42.818143",
     "status": "completed"
    },
    "tags": []
   },
   "outputs": [],
   "source": [
    "credits = pd.read_csv('../input/the-movies-dataset/credits.csv')\n",
    "keywords = pd.read_csv('../input/the-movies-dataset/keywords.csv')\n",
    "movies = pd.read_csv('../input/the-movies-dataset/movies_metadata.csv').\\\n",
    "                     drop(['belongs_to_collection', 'homepage', 'imdb_id', 'poster_path', 'status', 'title', 'video'], axis=1).\\\n",
    "                     drop([19730, 29503, 35587]) # Incorrect data type\n",
    "\n",
    "movies['id'] = movies['id'].astype('int64')\n"
   ]
  },
  {
   "cell_type": "code",
   "execution_count": 3,
   "id": "20fffb93",
   "metadata": {
    "execution": {
     "iopub.execute_input": "2025-06-22T16:41:48.681544Z",
     "iopub.status.busy": "2025-06-22T16:41:48.681302Z",
     "iopub.status.idle": "2025-06-22T16:41:48.686714Z",
     "shell.execute_reply": "2025-06-22T16:41:48.686045Z"
    },
    "papermill": {
     "duration": 0.016293,
     "end_time": "2025-06-22T16:41:48.687757",
     "exception": false,
     "start_time": "2025-06-22T16:41:48.671464",
     "status": "completed"
    },
    "tags": []
   },
   "outputs": [
    {
     "data": {
      "text/plain": [
       "Index(['cast', 'crew', 'id'], dtype='object')"
      ]
     },
     "execution_count": 3,
     "metadata": {},
     "output_type": "execute_result"
    }
   ],
   "source": [
    "credits.columns"
   ]
  },
  {
   "cell_type": "code",
   "execution_count": 4,
   "id": "f32a80f8",
   "metadata": {
    "execution": {
     "iopub.execute_input": "2025-06-22T16:41:48.707952Z",
     "iopub.status.busy": "2025-06-22T16:41:48.707156Z",
     "iopub.status.idle": "2025-06-22T16:41:48.711990Z",
     "shell.execute_reply": "2025-06-22T16:41:48.711296Z"
    },
    "papermill": {
     "duration": 0.016289,
     "end_time": "2025-06-22T16:41:48.713346",
     "exception": false,
     "start_time": "2025-06-22T16:41:48.697057",
     "status": "completed"
    },
    "tags": []
   },
   "outputs": [
    {
     "data": {
      "text/plain": [
       "Index(['id', 'keywords'], dtype='object')"
      ]
     },
     "execution_count": 4,
     "metadata": {},
     "output_type": "execute_result"
    }
   ],
   "source": [
    "keywords.columns"
   ]
  },
  {
   "cell_type": "code",
   "execution_count": 5,
   "id": "f1b12239",
   "metadata": {
    "execution": {
     "iopub.execute_input": "2025-06-22T16:41:48.733266Z",
     "iopub.status.busy": "2025-06-22T16:41:48.733039Z",
     "iopub.status.idle": "2025-06-22T16:41:48.737461Z",
     "shell.execute_reply": "2025-06-22T16:41:48.736787Z"
    },
    "papermill": {
     "duration": 0.015431,
     "end_time": "2025-06-22T16:41:48.738551",
     "exception": false,
     "start_time": "2025-06-22T16:41:48.723120",
     "status": "completed"
    },
    "tags": []
   },
   "outputs": [
    {
     "data": {
      "text/plain": [
       "Index(['adult', 'budget', 'genres', 'id', 'original_language',\n",
       "       'original_title', 'overview', 'popularity', 'production_companies',\n",
       "       'production_countries', 'release_date', 'revenue', 'runtime',\n",
       "       'spoken_languages', 'tagline', 'vote_average', 'vote_count'],\n",
       "      dtype='object')"
      ]
     },
     "execution_count": 5,
     "metadata": {},
     "output_type": "execute_result"
    }
   ],
   "source": [
    "movies.columns"
   ]
  },
  {
   "cell_type": "code",
   "execution_count": null,
   "id": "bc5c22c9",
   "metadata": {
    "papermill": {
     "duration": 0.009821,
     "end_time": "2025-06-22T16:41:48.758178",
     "exception": false,
     "start_time": "2025-06-22T16:41:48.748357",
     "status": "completed"
    },
    "tags": []
   },
   "outputs": [],
   "source": []
  },
  {
   "cell_type": "code",
   "execution_count": 6,
   "id": "59f8ee7d",
   "metadata": {
    "execution": {
     "iopub.execute_input": "2025-06-22T16:41:48.777884Z",
     "iopub.status.busy": "2025-06-22T16:41:48.777672Z",
     "iopub.status.idle": "2025-06-22T16:41:48.793606Z",
     "shell.execute_reply": "2025-06-22T16:41:48.792745Z"
    },
    "papermill": {
     "duration": 0.027413,
     "end_time": "2025-06-22T16:41:48.795032",
     "exception": false,
     "start_time": "2025-06-22T16:41:48.767619",
     "status": "completed"
    },
    "tags": []
   },
   "outputs": [
    {
     "data": {
      "text/html": [
       "<div>\n",
       "<style scoped>\n",
       "    .dataframe tbody tr th:only-of-type {\n",
       "        vertical-align: middle;\n",
       "    }\n",
       "\n",
       "    .dataframe tbody tr th {\n",
       "        vertical-align: top;\n",
       "    }\n",
       "\n",
       "    .dataframe thead th {\n",
       "        text-align: right;\n",
       "    }\n",
       "</style>\n",
       "<table border=\"1\" class=\"dataframe\">\n",
       "  <thead>\n",
       "    <tr style=\"text-align: right;\">\n",
       "      <th></th>\n",
       "      <th>cast</th>\n",
       "      <th>crew</th>\n",
       "      <th>id</th>\n",
       "    </tr>\n",
       "  </thead>\n",
       "  <tbody>\n",
       "    <tr>\n",
       "      <th>0</th>\n",
       "      <td>[{'cast_id': 14, 'character': 'Woody (voice)',...</td>\n",
       "      <td>[{'credit_id': '52fe4284c3a36847f8024f49', 'de...</td>\n",
       "      <td>862</td>\n",
       "    </tr>\n",
       "    <tr>\n",
       "      <th>1</th>\n",
       "      <td>[{'cast_id': 1, 'character': 'Alan Parrish', '...</td>\n",
       "      <td>[{'credit_id': '52fe44bfc3a36847f80a7cd1', 'de...</td>\n",
       "      <td>8844</td>\n",
       "    </tr>\n",
       "    <tr>\n",
       "      <th>2</th>\n",
       "      <td>[{'cast_id': 2, 'character': 'Max Goldman', 'c...</td>\n",
       "      <td>[{'credit_id': '52fe466a9251416c75077a89', 'de...</td>\n",
       "      <td>15602</td>\n",
       "    </tr>\n",
       "    <tr>\n",
       "      <th>3</th>\n",
       "      <td>[{'cast_id': 1, 'character': \"Savannah 'Vannah...</td>\n",
       "      <td>[{'credit_id': '52fe44779251416c91011acb', 'de...</td>\n",
       "      <td>31357</td>\n",
       "    </tr>\n",
       "    <tr>\n",
       "      <th>4</th>\n",
       "      <td>[{'cast_id': 1, 'character': 'George Banks', '...</td>\n",
       "      <td>[{'credit_id': '52fe44959251416c75039ed7', 'de...</td>\n",
       "      <td>11862</td>\n",
       "    </tr>\n",
       "  </tbody>\n",
       "</table>\n",
       "</div>"
      ],
      "text/plain": [
       "                                                cast  \\\n",
       "0  [{'cast_id': 14, 'character': 'Woody (voice)',...   \n",
       "1  [{'cast_id': 1, 'character': 'Alan Parrish', '...   \n",
       "2  [{'cast_id': 2, 'character': 'Max Goldman', 'c...   \n",
       "3  [{'cast_id': 1, 'character': \"Savannah 'Vannah...   \n",
       "4  [{'cast_id': 1, 'character': 'George Banks', '...   \n",
       "\n",
       "                                                crew     id  \n",
       "0  [{'credit_id': '52fe4284c3a36847f8024f49', 'de...    862  \n",
       "1  [{'credit_id': '52fe44bfc3a36847f80a7cd1', 'de...   8844  \n",
       "2  [{'credit_id': '52fe466a9251416c75077a89', 'de...  15602  \n",
       "3  [{'credit_id': '52fe44779251416c91011acb', 'de...  31357  \n",
       "4  [{'credit_id': '52fe44959251416c75039ed7', 'de...  11862  "
      ]
     },
     "execution_count": 6,
     "metadata": {},
     "output_type": "execute_result"
    }
   ],
   "source": [
    "credits.head()"
   ]
  },
  {
   "cell_type": "code",
   "execution_count": 7,
   "id": "e6ac1198",
   "metadata": {
    "execution": {
     "iopub.execute_input": "2025-06-22T16:41:48.815765Z",
     "iopub.status.busy": "2025-06-22T16:41:48.815569Z",
     "iopub.status.idle": "2025-06-22T16:41:48.829623Z",
     "shell.execute_reply": "2025-06-22T16:41:48.828978Z"
    },
    "papermill": {
     "duration": 0.025423,
     "end_time": "2025-06-22T16:41:48.830671",
     "exception": false,
     "start_time": "2025-06-22T16:41:48.805248",
     "status": "completed"
    },
    "tags": []
   },
   "outputs": [
    {
     "data": {
      "text/html": [
       "<div>\n",
       "<style scoped>\n",
       "    .dataframe tbody tr th:only-of-type {\n",
       "        vertical-align: middle;\n",
       "    }\n",
       "\n",
       "    .dataframe tbody tr th {\n",
       "        vertical-align: top;\n",
       "    }\n",
       "\n",
       "    .dataframe thead th {\n",
       "        text-align: right;\n",
       "    }\n",
       "</style>\n",
       "<table border=\"1\" class=\"dataframe\">\n",
       "  <thead>\n",
       "    <tr style=\"text-align: right;\">\n",
       "      <th></th>\n",
       "      <th>adult</th>\n",
       "      <th>budget</th>\n",
       "      <th>genres</th>\n",
       "      <th>id</th>\n",
       "      <th>original_language</th>\n",
       "      <th>original_title</th>\n",
       "      <th>overview</th>\n",
       "      <th>popularity</th>\n",
       "      <th>production_companies</th>\n",
       "      <th>production_countries</th>\n",
       "      <th>release_date</th>\n",
       "      <th>revenue</th>\n",
       "      <th>runtime</th>\n",
       "      <th>spoken_languages</th>\n",
       "      <th>tagline</th>\n",
       "      <th>vote_average</th>\n",
       "      <th>vote_count</th>\n",
       "    </tr>\n",
       "  </thead>\n",
       "  <tbody>\n",
       "    <tr>\n",
       "      <th>0</th>\n",
       "      <td>False</td>\n",
       "      <td>30000000</td>\n",
       "      <td>[{'id': 16, 'name': 'Animation'}, {'id': 35, '...</td>\n",
       "      <td>862</td>\n",
       "      <td>en</td>\n",
       "      <td>Toy Story</td>\n",
       "      <td>Led by Woody, Andy's toys live happily in his ...</td>\n",
       "      <td>21.946943</td>\n",
       "      <td>[{'name': 'Pixar Animation Studios', 'id': 3}]</td>\n",
       "      <td>[{'iso_3166_1': 'US', 'name': 'United States o...</td>\n",
       "      <td>1995-10-30</td>\n",
       "      <td>373554033.0</td>\n",
       "      <td>81.0</td>\n",
       "      <td>[{'iso_639_1': 'en', 'name': 'English'}]</td>\n",
       "      <td>NaN</td>\n",
       "      <td>7.7</td>\n",
       "      <td>5415.0</td>\n",
       "    </tr>\n",
       "    <tr>\n",
       "      <th>1</th>\n",
       "      <td>False</td>\n",
       "      <td>65000000</td>\n",
       "      <td>[{'id': 12, 'name': 'Adventure'}, {'id': 14, '...</td>\n",
       "      <td>8844</td>\n",
       "      <td>en</td>\n",
       "      <td>Jumanji</td>\n",
       "      <td>When siblings Judy and Peter discover an encha...</td>\n",
       "      <td>17.015539</td>\n",
       "      <td>[{'name': 'TriStar Pictures', 'id': 559}, {'na...</td>\n",
       "      <td>[{'iso_3166_1': 'US', 'name': 'United States o...</td>\n",
       "      <td>1995-12-15</td>\n",
       "      <td>262797249.0</td>\n",
       "      <td>104.0</td>\n",
       "      <td>[{'iso_639_1': 'en', 'name': 'English'}, {'iso...</td>\n",
       "      <td>Roll the dice and unleash the excitement!</td>\n",
       "      <td>6.9</td>\n",
       "      <td>2413.0</td>\n",
       "    </tr>\n",
       "    <tr>\n",
       "      <th>2</th>\n",
       "      <td>False</td>\n",
       "      <td>0</td>\n",
       "      <td>[{'id': 10749, 'name': 'Romance'}, {'id': 35, ...</td>\n",
       "      <td>15602</td>\n",
       "      <td>en</td>\n",
       "      <td>Grumpier Old Men</td>\n",
       "      <td>A family wedding reignites the ancient feud be...</td>\n",
       "      <td>11.7129</td>\n",
       "      <td>[{'name': 'Warner Bros.', 'id': 6194}, {'name'...</td>\n",
       "      <td>[{'iso_3166_1': 'US', 'name': 'United States o...</td>\n",
       "      <td>1995-12-22</td>\n",
       "      <td>0.0</td>\n",
       "      <td>101.0</td>\n",
       "      <td>[{'iso_639_1': 'en', 'name': 'English'}]</td>\n",
       "      <td>Still Yelling. Still Fighting. Still Ready for...</td>\n",
       "      <td>6.5</td>\n",
       "      <td>92.0</td>\n",
       "    </tr>\n",
       "    <tr>\n",
       "      <th>3</th>\n",
       "      <td>False</td>\n",
       "      <td>16000000</td>\n",
       "      <td>[{'id': 35, 'name': 'Comedy'}, {'id': 18, 'nam...</td>\n",
       "      <td>31357</td>\n",
       "      <td>en</td>\n",
       "      <td>Waiting to Exhale</td>\n",
       "      <td>Cheated on, mistreated and stepped on, the wom...</td>\n",
       "      <td>3.859495</td>\n",
       "      <td>[{'name': 'Twentieth Century Fox Film Corporat...</td>\n",
       "      <td>[{'iso_3166_1': 'US', 'name': 'United States o...</td>\n",
       "      <td>1995-12-22</td>\n",
       "      <td>81452156.0</td>\n",
       "      <td>127.0</td>\n",
       "      <td>[{'iso_639_1': 'en', 'name': 'English'}]</td>\n",
       "      <td>Friends are the people who let you be yourself...</td>\n",
       "      <td>6.1</td>\n",
       "      <td>34.0</td>\n",
       "    </tr>\n",
       "    <tr>\n",
       "      <th>4</th>\n",
       "      <td>False</td>\n",
       "      <td>0</td>\n",
       "      <td>[{'id': 35, 'name': 'Comedy'}]</td>\n",
       "      <td>11862</td>\n",
       "      <td>en</td>\n",
       "      <td>Father of the Bride Part II</td>\n",
       "      <td>Just when George Banks has recovered from his ...</td>\n",
       "      <td>8.387519</td>\n",
       "      <td>[{'name': 'Sandollar Productions', 'id': 5842}...</td>\n",
       "      <td>[{'iso_3166_1': 'US', 'name': 'United States o...</td>\n",
       "      <td>1995-02-10</td>\n",
       "      <td>76578911.0</td>\n",
       "      <td>106.0</td>\n",
       "      <td>[{'iso_639_1': 'en', 'name': 'English'}]</td>\n",
       "      <td>Just When His World Is Back To Normal... He's ...</td>\n",
       "      <td>5.7</td>\n",
       "      <td>173.0</td>\n",
       "    </tr>\n",
       "  </tbody>\n",
       "</table>\n",
       "</div>"
      ],
      "text/plain": [
       "   adult    budget                                             genres     id  \\\n",
       "0  False  30000000  [{'id': 16, 'name': 'Animation'}, {'id': 35, '...    862   \n",
       "1  False  65000000  [{'id': 12, 'name': 'Adventure'}, {'id': 14, '...   8844   \n",
       "2  False         0  [{'id': 10749, 'name': 'Romance'}, {'id': 35, ...  15602   \n",
       "3  False  16000000  [{'id': 35, 'name': 'Comedy'}, {'id': 18, 'nam...  31357   \n",
       "4  False         0                     [{'id': 35, 'name': 'Comedy'}]  11862   \n",
       "\n",
       "  original_language               original_title  \\\n",
       "0                en                    Toy Story   \n",
       "1                en                      Jumanji   \n",
       "2                en             Grumpier Old Men   \n",
       "3                en            Waiting to Exhale   \n",
       "4                en  Father of the Bride Part II   \n",
       "\n",
       "                                            overview popularity  \\\n",
       "0  Led by Woody, Andy's toys live happily in his ...  21.946943   \n",
       "1  When siblings Judy and Peter discover an encha...  17.015539   \n",
       "2  A family wedding reignites the ancient feud be...    11.7129   \n",
       "3  Cheated on, mistreated and stepped on, the wom...   3.859495   \n",
       "4  Just when George Banks has recovered from his ...   8.387519   \n",
       "\n",
       "                                production_companies  \\\n",
       "0     [{'name': 'Pixar Animation Studios', 'id': 3}]   \n",
       "1  [{'name': 'TriStar Pictures', 'id': 559}, {'na...   \n",
       "2  [{'name': 'Warner Bros.', 'id': 6194}, {'name'...   \n",
       "3  [{'name': 'Twentieth Century Fox Film Corporat...   \n",
       "4  [{'name': 'Sandollar Productions', 'id': 5842}...   \n",
       "\n",
       "                                production_countries release_date  \\\n",
       "0  [{'iso_3166_1': 'US', 'name': 'United States o...   1995-10-30   \n",
       "1  [{'iso_3166_1': 'US', 'name': 'United States o...   1995-12-15   \n",
       "2  [{'iso_3166_1': 'US', 'name': 'United States o...   1995-12-22   \n",
       "3  [{'iso_3166_1': 'US', 'name': 'United States o...   1995-12-22   \n",
       "4  [{'iso_3166_1': 'US', 'name': 'United States o...   1995-02-10   \n",
       "\n",
       "       revenue  runtime                                   spoken_languages  \\\n",
       "0  373554033.0     81.0           [{'iso_639_1': 'en', 'name': 'English'}]   \n",
       "1  262797249.0    104.0  [{'iso_639_1': 'en', 'name': 'English'}, {'iso...   \n",
       "2          0.0    101.0           [{'iso_639_1': 'en', 'name': 'English'}]   \n",
       "3   81452156.0    127.0           [{'iso_639_1': 'en', 'name': 'English'}]   \n",
       "4   76578911.0    106.0           [{'iso_639_1': 'en', 'name': 'English'}]   \n",
       "\n",
       "                                             tagline  vote_average  vote_count  \n",
       "0                                                NaN           7.7      5415.0  \n",
       "1          Roll the dice and unleash the excitement!           6.9      2413.0  \n",
       "2  Still Yelling. Still Fighting. Still Ready for...           6.5        92.0  \n",
       "3  Friends are the people who let you be yourself...           6.1        34.0  \n",
       "4  Just When His World Is Back To Normal... He's ...           5.7       173.0  "
      ]
     },
     "execution_count": 7,
     "metadata": {},
     "output_type": "execute_result"
    }
   ],
   "source": [
    "movies.head()"
   ]
  },
  {
   "cell_type": "code",
   "execution_count": 8,
   "id": "2fb89083",
   "metadata": {
    "execution": {
     "iopub.execute_input": "2025-06-22T16:41:48.852076Z",
     "iopub.status.busy": "2025-06-22T16:41:48.851816Z",
     "iopub.status.idle": "2025-06-22T16:41:48.858036Z",
     "shell.execute_reply": "2025-06-22T16:41:48.857309Z"
    },
    "papermill": {
     "duration": 0.017675,
     "end_time": "2025-06-22T16:41:48.859121",
     "exception": false,
     "start_time": "2025-06-22T16:41:48.841446",
     "status": "completed"
    },
    "tags": []
   },
   "outputs": [
    {
     "data": {
      "text/html": [
       "<div>\n",
       "<style scoped>\n",
       "    .dataframe tbody tr th:only-of-type {\n",
       "        vertical-align: middle;\n",
       "    }\n",
       "\n",
       "    .dataframe tbody tr th {\n",
       "        vertical-align: top;\n",
       "    }\n",
       "\n",
       "    .dataframe thead th {\n",
       "        text-align: right;\n",
       "    }\n",
       "</style>\n",
       "<table border=\"1\" class=\"dataframe\">\n",
       "  <thead>\n",
       "    <tr style=\"text-align: right;\">\n",
       "      <th></th>\n",
       "      <th>id</th>\n",
       "      <th>keywords</th>\n",
       "    </tr>\n",
       "  </thead>\n",
       "  <tbody>\n",
       "    <tr>\n",
       "      <th>0</th>\n",
       "      <td>862</td>\n",
       "      <td>[{'id': 931, 'name': 'jealousy'}, {'id': 4290,...</td>\n",
       "    </tr>\n",
       "    <tr>\n",
       "      <th>1</th>\n",
       "      <td>8844</td>\n",
       "      <td>[{'id': 10090, 'name': 'board game'}, {'id': 1...</td>\n",
       "    </tr>\n",
       "    <tr>\n",
       "      <th>2</th>\n",
       "      <td>15602</td>\n",
       "      <td>[{'id': 1495, 'name': 'fishing'}, {'id': 12392...</td>\n",
       "    </tr>\n",
       "    <tr>\n",
       "      <th>3</th>\n",
       "      <td>31357</td>\n",
       "      <td>[{'id': 818, 'name': 'based on novel'}, {'id':...</td>\n",
       "    </tr>\n",
       "    <tr>\n",
       "      <th>4</th>\n",
       "      <td>11862</td>\n",
       "      <td>[{'id': 1009, 'name': 'baby'}, {'id': 1599, 'n...</td>\n",
       "    </tr>\n",
       "  </tbody>\n",
       "</table>\n",
       "</div>"
      ],
      "text/plain": [
       "      id                                           keywords\n",
       "0    862  [{'id': 931, 'name': 'jealousy'}, {'id': 4290,...\n",
       "1   8844  [{'id': 10090, 'name': 'board game'}, {'id': 1...\n",
       "2  15602  [{'id': 1495, 'name': 'fishing'}, {'id': 12392...\n",
       "3  31357  [{'id': 818, 'name': 'based on novel'}, {'id':...\n",
       "4  11862  [{'id': 1009, 'name': 'baby'}, {'id': 1599, 'n..."
      ]
     },
     "execution_count": 8,
     "metadata": {},
     "output_type": "execute_result"
    }
   ],
   "source": [
    "keywords.head()"
   ]
  },
  {
   "cell_type": "code",
   "execution_count": 9,
   "id": "53d3fa1f",
   "metadata": {
    "execution": {
     "iopub.execute_input": "2025-06-22T16:41:48.879864Z",
     "iopub.status.busy": "2025-06-22T16:41:48.879365Z",
     "iopub.status.idle": "2025-06-22T16:41:48.883681Z",
     "shell.execute_reply": "2025-06-22T16:41:48.882923Z"
    },
    "papermill": {
     "duration": 0.01549,
     "end_time": "2025-06-22T16:41:48.884707",
     "exception": false,
     "start_time": "2025-06-22T16:41:48.869217",
     "status": "completed"
    },
    "tags": []
   },
   "outputs": [
    {
     "data": {
      "text/plain": [
       "\"[{'id': 931, 'name': 'jealousy'}, {'id': 4290, 'name': 'toy'}, {'id': 5202, 'name': 'boy'}, {'id': 6054, 'name': 'friendship'}, {'id': 9713, 'name': 'friends'}, {'id': 9823, 'name': 'rivalry'}, {'id': 165503, 'name': 'boy next door'}, {'id': 170722, 'name': 'new toy'}, {'id': 187065, 'name': 'toy comes to life'}]\""
      ]
     },
     "execution_count": 9,
     "metadata": {},
     "output_type": "execute_result"
    }
   ],
   "source": [
    "keywords['keywords'][0]"
   ]
  },
  {
   "cell_type": "code",
   "execution_count": 10,
   "id": "4f4f4c32",
   "metadata": {
    "execution": {
     "iopub.execute_input": "2025-06-22T16:41:48.905270Z",
     "iopub.status.busy": "2025-06-22T16:41:48.905070Z",
     "iopub.status.idle": "2025-06-22T16:41:49.077696Z",
     "shell.execute_reply": "2025-06-22T16:41:49.077098Z"
    },
    "papermill": {
     "duration": 0.184447,
     "end_time": "2025-06-22T16:41:49.079107",
     "exception": false,
     "start_time": "2025-06-22T16:41:48.894660",
     "status": "completed"
    },
    "tags": []
   },
   "outputs": [],
   "source": [
    "# merge movies with keywords dataset on movie id\n",
    "df = movies.merge(keywords, on='id').\\\n",
    "    merge(credits, on='id')\n",
    "\n",
    "df['original_language'] = df['original_language'].fillna('')\n",
    "df['runtime'] = df['runtime'].fillna(0)\n",
    "df['tagline'] = df['tagline'].fillna('')\n",
    "\n",
    "df.dropna(inplace=True)"
   ]
  },
  {
   "cell_type": "markdown",
   "id": "fd0de448",
   "metadata": {
    "papermill": {
     "duration": 0.011242,
     "end_time": "2025-06-22T16:41:49.101776",
     "exception": false,
     "start_time": "2025-06-22T16:41:49.090534",
     "status": "completed"
    },
    "tags": []
   },
   "source": [
    "We want data regarding the crews,cast,keywords,descriptions etc in comma seperated format so we apply appropriate transformation to get that."
   ]
  },
  {
   "cell_type": "code",
   "execution_count": 11,
   "id": "a268c387",
   "metadata": {
    "execution": {
     "iopub.execute_input": "2025-06-22T16:41:49.125809Z",
     "iopub.status.busy": "2025-06-22T16:41:49.125531Z",
     "iopub.status.idle": "2025-06-22T16:42:39.193146Z",
     "shell.execute_reply": "2025-06-22T16:42:39.192164Z"
    },
    "papermill": {
     "duration": 50.081885,
     "end_time": "2025-06-22T16:42:39.194932",
     "exception": false,
     "start_time": "2025-06-22T16:41:49.113047",
     "status": "completed"
    },
    "tags": []
   },
   "outputs": [],
   "source": [
    "def get_text(text, obj='name'):\n",
    "    text = literal_eval(text)\n",
    "    \n",
    "    if len(text) == 1: # len(text) only 1 dictionary is in the list\n",
    "        for i in text:\n",
    "            return i[obj]\n",
    "    else:\n",
    "        s = []\n",
    "        for i in text:\n",
    "            s.append(i[obj])\n",
    "        return ', '.join(s)\n",
    "    \n",
    "df['genres'] = df['genres'].apply(get_text)\n",
    "df['production_companies'] = df['production_companies'].apply(get_text)\n",
    "df['production_countries'] = df['production_countries'].apply(get_text)\n",
    "df['crew'] = df['crew'].apply(get_text)\n",
    "df['spoken_languages'] = df['spoken_languages'].apply(get_text)\n",
    "df['keywords'] = df['keywords'].apply(get_text)\n",
    "\n",
    "# New columns\n",
    "df['characters'] = df['cast'].apply(get_text, obj='character')\n",
    "df['actors'] = df['cast'].apply(get_text)\n",
    "\n",
    "df.drop('cast', axis=1, inplace=True)\n",
    "df = df[~df['original_title'].duplicated()]\n",
    "df = df.reset_index(drop=True)"
   ]
  },
  {
   "cell_type": "code",
   "execution_count": 12,
   "id": "69b78257",
   "metadata": {
    "execution": {
     "iopub.execute_input": "2025-06-22T16:42:39.221338Z",
     "iopub.status.busy": "2025-06-22T16:42:39.221059Z",
     "iopub.status.idle": "2025-06-22T16:42:39.240035Z",
     "shell.execute_reply": "2025-06-22T16:42:39.239227Z"
    },
    "papermill": {
     "duration": 0.033003,
     "end_time": "2025-06-22T16:42:39.241430",
     "exception": false,
     "start_time": "2025-06-22T16:42:39.208427",
     "status": "completed"
    },
    "tags": []
   },
   "outputs": [
    {
     "data": {
      "text/html": [
       "<div>\n",
       "<style scoped>\n",
       "    .dataframe tbody tr th:only-of-type {\n",
       "        vertical-align: middle;\n",
       "    }\n",
       "\n",
       "    .dataframe tbody tr th {\n",
       "        vertical-align: top;\n",
       "    }\n",
       "\n",
       "    .dataframe thead th {\n",
       "        text-align: right;\n",
       "    }\n",
       "</style>\n",
       "<table border=\"1\" class=\"dataframe\">\n",
       "  <thead>\n",
       "    <tr style=\"text-align: right;\">\n",
       "      <th></th>\n",
       "      <th>adult</th>\n",
       "      <th>budget</th>\n",
       "      <th>genres</th>\n",
       "      <th>id</th>\n",
       "      <th>original_language</th>\n",
       "      <th>original_title</th>\n",
       "      <th>overview</th>\n",
       "      <th>popularity</th>\n",
       "      <th>production_companies</th>\n",
       "      <th>production_countries</th>\n",
       "      <th>...</th>\n",
       "      <th>revenue</th>\n",
       "      <th>runtime</th>\n",
       "      <th>spoken_languages</th>\n",
       "      <th>tagline</th>\n",
       "      <th>vote_average</th>\n",
       "      <th>vote_count</th>\n",
       "      <th>keywords</th>\n",
       "      <th>crew</th>\n",
       "      <th>characters</th>\n",
       "      <th>actors</th>\n",
       "    </tr>\n",
       "  </thead>\n",
       "  <tbody>\n",
       "    <tr>\n",
       "      <th>0</th>\n",
       "      <td>False</td>\n",
       "      <td>30000000</td>\n",
       "      <td>Animation, Comedy, Family</td>\n",
       "      <td>862</td>\n",
       "      <td>en</td>\n",
       "      <td>Toy Story</td>\n",
       "      <td>Led by Woody, Andy's toys live happily in his ...</td>\n",
       "      <td>21.946943</td>\n",
       "      <td>Pixar Animation Studios</td>\n",
       "      <td>United States of America</td>\n",
       "      <td>...</td>\n",
       "      <td>373554033.0</td>\n",
       "      <td>81.0</td>\n",
       "      <td>English</td>\n",
       "      <td></td>\n",
       "      <td>7.7</td>\n",
       "      <td>5415.0</td>\n",
       "      <td>jealousy, toy, boy, friendship, friends, rival...</td>\n",
       "      <td>John Lasseter, Joss Whedon, Andrew Stanton, Jo...</td>\n",
       "      <td>Woody (voice), Buzz Lightyear (voice), Mr. Pot...</td>\n",
       "      <td>Tom Hanks, Tim Allen, Don Rickles, Jim Varney,...</td>\n",
       "    </tr>\n",
       "    <tr>\n",
       "      <th>1</th>\n",
       "      <td>False</td>\n",
       "      <td>65000000</td>\n",
       "      <td>Adventure, Fantasy, Family</td>\n",
       "      <td>8844</td>\n",
       "      <td>en</td>\n",
       "      <td>Jumanji</td>\n",
       "      <td>When siblings Judy and Peter discover an encha...</td>\n",
       "      <td>17.015539</td>\n",
       "      <td>TriStar Pictures, Teitler Film, Interscope Com...</td>\n",
       "      <td>United States of America</td>\n",
       "      <td>...</td>\n",
       "      <td>262797249.0</td>\n",
       "      <td>104.0</td>\n",
       "      <td>English, Français</td>\n",
       "      <td>Roll the dice and unleash the excitement!</td>\n",
       "      <td>6.9</td>\n",
       "      <td>2413.0</td>\n",
       "      <td>board game, disappearance, based on children's...</td>\n",
       "      <td>Larry J. Franco, Jonathan Hensleigh, James Hor...</td>\n",
       "      <td>Alan Parrish, Samuel Alan Parrish / Van Pelt, ...</td>\n",
       "      <td>Robin Williams, Jonathan Hyde, Kirsten Dunst, ...</td>\n",
       "    </tr>\n",
       "    <tr>\n",
       "      <th>2</th>\n",
       "      <td>False</td>\n",
       "      <td>0</td>\n",
       "      <td>Romance, Comedy</td>\n",
       "      <td>15602</td>\n",
       "      <td>en</td>\n",
       "      <td>Grumpier Old Men</td>\n",
       "      <td>A family wedding reignites the ancient feud be...</td>\n",
       "      <td>11.7129</td>\n",
       "      <td>Warner Bros., Lancaster Gate</td>\n",
       "      <td>United States of America</td>\n",
       "      <td>...</td>\n",
       "      <td>0.0</td>\n",
       "      <td>101.0</td>\n",
       "      <td>English</td>\n",
       "      <td>Still Yelling. Still Fighting. Still Ready for...</td>\n",
       "      <td>6.5</td>\n",
       "      <td>92.0</td>\n",
       "      <td>fishing, best friend, duringcreditsstinger, ol...</td>\n",
       "      <td>Howard Deutch, Mark Steven Johnson, Mark Steve...</td>\n",
       "      <td>Max Goldman, John Gustafson, Ariel Gustafson, ...</td>\n",
       "      <td>Walter Matthau, Jack Lemmon, Ann-Margret, Soph...</td>\n",
       "    </tr>\n",
       "    <tr>\n",
       "      <th>3</th>\n",
       "      <td>False</td>\n",
       "      <td>16000000</td>\n",
       "      <td>Comedy, Drama, Romance</td>\n",
       "      <td>31357</td>\n",
       "      <td>en</td>\n",
       "      <td>Waiting to Exhale</td>\n",
       "      <td>Cheated on, mistreated and stepped on, the wom...</td>\n",
       "      <td>3.859495</td>\n",
       "      <td>Twentieth Century Fox Film Corporation</td>\n",
       "      <td>United States of America</td>\n",
       "      <td>...</td>\n",
       "      <td>81452156.0</td>\n",
       "      <td>127.0</td>\n",
       "      <td>English</td>\n",
       "      <td>Friends are the people who let you be yourself...</td>\n",
       "      <td>6.1</td>\n",
       "      <td>34.0</td>\n",
       "      <td>based on novel, interracial relationship, sing...</td>\n",
       "      <td>Forest Whitaker, Ronald Bass, Ronald Bass, Ezr...</td>\n",
       "      <td>Savannah 'Vannah' Jackson, Bernadine 'Bernie' ...</td>\n",
       "      <td>Whitney Houston, Angela Bassett, Loretta Devin...</td>\n",
       "    </tr>\n",
       "    <tr>\n",
       "      <th>4</th>\n",
       "      <td>False</td>\n",
       "      <td>0</td>\n",
       "      <td>Comedy</td>\n",
       "      <td>11862</td>\n",
       "      <td>en</td>\n",
       "      <td>Father of the Bride Part II</td>\n",
       "      <td>Just when George Banks has recovered from his ...</td>\n",
       "      <td>8.387519</td>\n",
       "      <td>Sandollar Productions, Touchstone Pictures</td>\n",
       "      <td>United States of America</td>\n",
       "      <td>...</td>\n",
       "      <td>76578911.0</td>\n",
       "      <td>106.0</td>\n",
       "      <td>English</td>\n",
       "      <td>Just When His World Is Back To Normal... He's ...</td>\n",
       "      <td>5.7</td>\n",
       "      <td>173.0</td>\n",
       "      <td>baby, midlife crisis, confidence, aging, daugh...</td>\n",
       "      <td>Alan Silvestri, Elliot Davis, Nancy Meyers, Na...</td>\n",
       "      <td>George Banks, Nina Banks, Franck Eggelhoffer, ...</td>\n",
       "      <td>Steve Martin, Diane Keaton, Martin Short, Kimb...</td>\n",
       "    </tr>\n",
       "  </tbody>\n",
       "</table>\n",
       "<p>5 rows × 21 columns</p>\n",
       "</div>"
      ],
      "text/plain": [
       "   adult    budget                      genres     id original_language  \\\n",
       "0  False  30000000   Animation, Comedy, Family    862                en   \n",
       "1  False  65000000  Adventure, Fantasy, Family   8844                en   \n",
       "2  False         0             Romance, Comedy  15602                en   \n",
       "3  False  16000000      Comedy, Drama, Romance  31357                en   \n",
       "4  False         0                      Comedy  11862                en   \n",
       "\n",
       "                original_title  \\\n",
       "0                    Toy Story   \n",
       "1                      Jumanji   \n",
       "2             Grumpier Old Men   \n",
       "3            Waiting to Exhale   \n",
       "4  Father of the Bride Part II   \n",
       "\n",
       "                                            overview popularity  \\\n",
       "0  Led by Woody, Andy's toys live happily in his ...  21.946943   \n",
       "1  When siblings Judy and Peter discover an encha...  17.015539   \n",
       "2  A family wedding reignites the ancient feud be...    11.7129   \n",
       "3  Cheated on, mistreated and stepped on, the wom...   3.859495   \n",
       "4  Just when George Banks has recovered from his ...   8.387519   \n",
       "\n",
       "                                production_companies  \\\n",
       "0                            Pixar Animation Studios   \n",
       "1  TriStar Pictures, Teitler Film, Interscope Com...   \n",
       "2                       Warner Bros., Lancaster Gate   \n",
       "3             Twentieth Century Fox Film Corporation   \n",
       "4         Sandollar Productions, Touchstone Pictures   \n",
       "\n",
       "       production_countries  ...      revenue  runtime   spoken_languages  \\\n",
       "0  United States of America  ...  373554033.0     81.0            English   \n",
       "1  United States of America  ...  262797249.0    104.0  English, Français   \n",
       "2  United States of America  ...          0.0    101.0            English   \n",
       "3  United States of America  ...   81452156.0    127.0            English   \n",
       "4  United States of America  ...   76578911.0    106.0            English   \n",
       "\n",
       "                                             tagline vote_average  vote_count  \\\n",
       "0                                                             7.7      5415.0   \n",
       "1          Roll the dice and unleash the excitement!          6.9      2413.0   \n",
       "2  Still Yelling. Still Fighting. Still Ready for...          6.5        92.0   \n",
       "3  Friends are the people who let you be yourself...          6.1        34.0   \n",
       "4  Just When His World Is Back To Normal... He's ...          5.7       173.0   \n",
       "\n",
       "                                            keywords  \\\n",
       "0  jealousy, toy, boy, friendship, friends, rival...   \n",
       "1  board game, disappearance, based on children's...   \n",
       "2  fishing, best friend, duringcreditsstinger, ol...   \n",
       "3  based on novel, interracial relationship, sing...   \n",
       "4  baby, midlife crisis, confidence, aging, daugh...   \n",
       "\n",
       "                                                crew  \\\n",
       "0  John Lasseter, Joss Whedon, Andrew Stanton, Jo...   \n",
       "1  Larry J. Franco, Jonathan Hensleigh, James Hor...   \n",
       "2  Howard Deutch, Mark Steven Johnson, Mark Steve...   \n",
       "3  Forest Whitaker, Ronald Bass, Ronald Bass, Ezr...   \n",
       "4  Alan Silvestri, Elliot Davis, Nancy Meyers, Na...   \n",
       "\n",
       "                                          characters  \\\n",
       "0  Woody (voice), Buzz Lightyear (voice), Mr. Pot...   \n",
       "1  Alan Parrish, Samuel Alan Parrish / Van Pelt, ...   \n",
       "2  Max Goldman, John Gustafson, Ariel Gustafson, ...   \n",
       "3  Savannah 'Vannah' Jackson, Bernadine 'Bernie' ...   \n",
       "4  George Banks, Nina Banks, Franck Eggelhoffer, ...   \n",
       "\n",
       "                                              actors  \n",
       "0  Tom Hanks, Tim Allen, Don Rickles, Jim Varney,...  \n",
       "1  Robin Williams, Jonathan Hyde, Kirsten Dunst, ...  \n",
       "2  Walter Matthau, Jack Lemmon, Ann-Margret, Soph...  \n",
       "3  Whitney Houston, Angela Bassett, Loretta Devin...  \n",
       "4  Steve Martin, Diane Keaton, Martin Short, Kimb...  \n",
       "\n",
       "[5 rows x 21 columns]"
      ]
     },
     "execution_count": 12,
     "metadata": {},
     "output_type": "execute_result"
    }
   ],
   "source": [
    "df.head()"
   ]
  },
  {
   "cell_type": "code",
   "execution_count": 13,
   "id": "8a8e298b",
   "metadata": {
    "execution": {
     "iopub.execute_input": "2025-06-22T16:42:39.264661Z",
     "iopub.status.busy": "2025-06-22T16:42:39.264446Z",
     "iopub.status.idle": "2025-06-22T16:42:39.268860Z",
     "shell.execute_reply": "2025-06-22T16:42:39.268250Z"
    },
    "papermill": {
     "duration": 0.017193,
     "end_time": "2025-06-22T16:42:39.269961",
     "exception": false,
     "start_time": "2025-06-22T16:42:39.252768",
     "status": "completed"
    },
    "tags": []
   },
   "outputs": [
    {
     "data": {
      "text/plain": [
       "Index(['adult', 'budget', 'genres', 'id', 'original_language',\n",
       "       'original_title', 'overview', 'popularity', 'production_companies',\n",
       "       'production_countries', 'release_date', 'revenue', 'runtime',\n",
       "       'spoken_languages', 'tagline', 'vote_average', 'vote_count', 'keywords',\n",
       "       'crew', 'characters', 'actors'],\n",
       "      dtype='object')"
      ]
     },
     "execution_count": 13,
     "metadata": {},
     "output_type": "execute_result"
    }
   ],
   "source": [
    "df.columns\n"
   ]
  },
  {
   "cell_type": "code",
   "execution_count": 14,
   "id": "0ff91787",
   "metadata": {
    "execution": {
     "iopub.execute_input": "2025-06-22T16:42:39.293346Z",
     "iopub.status.busy": "2025-06-22T16:42:39.293141Z",
     "iopub.status.idle": "2025-06-22T16:42:39.298455Z",
     "shell.execute_reply": "2025-06-22T16:42:39.297823Z"
    },
    "papermill": {
     "duration": 0.017916,
     "end_time": "2025-06-22T16:42:39.299622",
     "exception": false,
     "start_time": "2025-06-22T16:42:39.281706",
     "status": "completed"
    },
    "tags": []
   },
   "outputs": [
    {
     "data": {
      "text/plain": [
       "0        jealousy, toy, boy, friendship, friends, rival...\n",
       "1        board game, disappearance, based on children's...\n",
       "2        fishing, best friend, duringcreditsstinger, ol...\n",
       "3        based on novel, interracial relationship, sing...\n",
       "4        baby, midlife crisis, confidence, aging, daugh...\n",
       "                               ...                        \n",
       "42368    witch, mythology, legend, serial killer, mocku...\n",
       "42369                                                     \n",
       "42370                                  artist, play, pinoy\n",
       "42371                                                     \n",
       "42372                                                     \n",
       "Name: keywords, Length: 42373, dtype: object"
      ]
     },
     "execution_count": 14,
     "metadata": {},
     "output_type": "execute_result"
    }
   ],
   "source": [
    "df['keywords']"
   ]
  },
  {
   "cell_type": "code",
   "execution_count": 15,
   "id": "cf120c00",
   "metadata": {
    "execution": {
     "iopub.execute_input": "2025-06-22T16:42:39.370196Z",
     "iopub.status.busy": "2025-06-22T16:42:39.369952Z",
     "iopub.status.idle": "2025-06-22T16:42:39.394455Z",
     "shell.execute_reply": "2025-06-22T16:42:39.393815Z"
    },
    "papermill": {
     "duration": 0.084013,
     "end_time": "2025-06-22T16:42:39.395745",
     "exception": false,
     "start_time": "2025-06-22T16:42:39.311732",
     "status": "completed"
    },
    "tags": []
   },
   "outputs": [],
   "source": [
    "# Drop unwanted columns\n",
    "columns_to_drop = [\n",
    "    'vote_count',\n",
    "    'budget',\n",
    "    'release_date',\n",
    "    'revenue',\n",
    "    'runtime',\n",
    "    'tagline'\n",
    "]\n",
    "\n",
    "df = df.drop(columns=columns_to_drop)\n",
    "df.drop('adult',axis=1,inplace=True)"
   ]
  },
  {
   "cell_type": "code",
   "execution_count": null,
   "id": "2257f417",
   "metadata": {
    "papermill": {
     "duration": 0.011973,
     "end_time": "2025-06-22T16:42:39.420293",
     "exception": false,
     "start_time": "2025-06-22T16:42:39.408320",
     "status": "completed"
    },
    "tags": []
   },
   "outputs": [],
   "source": []
  },
  {
   "cell_type": "code",
   "execution_count": 16,
   "id": "4f49e3c4",
   "metadata": {
    "execution": {
     "iopub.execute_input": "2025-06-22T16:42:39.444575Z",
     "iopub.status.busy": "2025-06-22T16:42:39.444376Z",
     "iopub.status.idle": "2025-06-22T16:42:39.449310Z",
     "shell.execute_reply": "2025-06-22T16:42:39.448539Z"
    },
    "papermill": {
     "duration": 0.0182,
     "end_time": "2025-06-22T16:42:39.450483",
     "exception": false,
     "start_time": "2025-06-22T16:42:39.432283",
     "status": "completed"
    },
    "tags": []
   },
   "outputs": [
    {
     "data": {
      "text/plain": [
       "Index(['genres', 'id', 'original_language', 'original_title', 'overview',\n",
       "       'popularity', 'production_companies', 'production_countries',\n",
       "       'spoken_languages', 'vote_average', 'keywords', 'crew', 'characters',\n",
       "       'actors'],\n",
       "      dtype='object')"
      ]
     },
     "execution_count": 16,
     "metadata": {},
     "output_type": "execute_result"
    }
   ],
   "source": [
    "df.columns"
   ]
  },
  {
   "cell_type": "code",
   "execution_count": 17,
   "id": "56cd7524",
   "metadata": {
    "execution": {
     "iopub.execute_input": "2025-06-22T16:42:39.474747Z",
     "iopub.status.busy": "2025-06-22T16:42:39.474560Z",
     "iopub.status.idle": "2025-06-22T16:42:39.487268Z",
     "shell.execute_reply": "2025-06-22T16:42:39.486547Z"
    },
    "papermill": {
     "duration": 0.0261,
     "end_time": "2025-06-22T16:42:39.488459",
     "exception": false,
     "start_time": "2025-06-22T16:42:39.462359",
     "status": "completed"
    },
    "tags": []
   },
   "outputs": [
    {
     "data": {
      "text/html": [
       "<div>\n",
       "<style scoped>\n",
       "    .dataframe tbody tr th:only-of-type {\n",
       "        vertical-align: middle;\n",
       "    }\n",
       "\n",
       "    .dataframe tbody tr th {\n",
       "        vertical-align: top;\n",
       "    }\n",
       "\n",
       "    .dataframe thead th {\n",
       "        text-align: right;\n",
       "    }\n",
       "</style>\n",
       "<table border=\"1\" class=\"dataframe\">\n",
       "  <thead>\n",
       "    <tr style=\"text-align: right;\">\n",
       "      <th></th>\n",
       "      <th>genres</th>\n",
       "      <th>id</th>\n",
       "      <th>original_language</th>\n",
       "      <th>original_title</th>\n",
       "      <th>overview</th>\n",
       "      <th>popularity</th>\n",
       "      <th>production_companies</th>\n",
       "      <th>production_countries</th>\n",
       "      <th>spoken_languages</th>\n",
       "      <th>vote_average</th>\n",
       "      <th>keywords</th>\n",
       "      <th>crew</th>\n",
       "      <th>characters</th>\n",
       "      <th>actors</th>\n",
       "    </tr>\n",
       "  </thead>\n",
       "  <tbody>\n",
       "    <tr>\n",
       "      <th>0</th>\n",
       "      <td>Animation, Comedy, Family</td>\n",
       "      <td>862</td>\n",
       "      <td>en</td>\n",
       "      <td>Toy Story</td>\n",
       "      <td>Led by Woody, Andy's toys live happily in his ...</td>\n",
       "      <td>21.946943</td>\n",
       "      <td>Pixar Animation Studios</td>\n",
       "      <td>United States of America</td>\n",
       "      <td>English</td>\n",
       "      <td>7.7</td>\n",
       "      <td>jealousy, toy, boy, friendship, friends, rival...</td>\n",
       "      <td>John Lasseter, Joss Whedon, Andrew Stanton, Jo...</td>\n",
       "      <td>Woody (voice), Buzz Lightyear (voice), Mr. Pot...</td>\n",
       "      <td>Tom Hanks, Tim Allen, Don Rickles, Jim Varney,...</td>\n",
       "    </tr>\n",
       "    <tr>\n",
       "      <th>1</th>\n",
       "      <td>Adventure, Fantasy, Family</td>\n",
       "      <td>8844</td>\n",
       "      <td>en</td>\n",
       "      <td>Jumanji</td>\n",
       "      <td>When siblings Judy and Peter discover an encha...</td>\n",
       "      <td>17.015539</td>\n",
       "      <td>TriStar Pictures, Teitler Film, Interscope Com...</td>\n",
       "      <td>United States of America</td>\n",
       "      <td>English, Français</td>\n",
       "      <td>6.9</td>\n",
       "      <td>board game, disappearance, based on children's...</td>\n",
       "      <td>Larry J. Franco, Jonathan Hensleigh, James Hor...</td>\n",
       "      <td>Alan Parrish, Samuel Alan Parrish / Van Pelt, ...</td>\n",
       "      <td>Robin Williams, Jonathan Hyde, Kirsten Dunst, ...</td>\n",
       "    </tr>\n",
       "    <tr>\n",
       "      <th>2</th>\n",
       "      <td>Romance, Comedy</td>\n",
       "      <td>15602</td>\n",
       "      <td>en</td>\n",
       "      <td>Grumpier Old Men</td>\n",
       "      <td>A family wedding reignites the ancient feud be...</td>\n",
       "      <td>11.7129</td>\n",
       "      <td>Warner Bros., Lancaster Gate</td>\n",
       "      <td>United States of America</td>\n",
       "      <td>English</td>\n",
       "      <td>6.5</td>\n",
       "      <td>fishing, best friend, duringcreditsstinger, ol...</td>\n",
       "      <td>Howard Deutch, Mark Steven Johnson, Mark Steve...</td>\n",
       "      <td>Max Goldman, John Gustafson, Ariel Gustafson, ...</td>\n",
       "      <td>Walter Matthau, Jack Lemmon, Ann-Margret, Soph...</td>\n",
       "    </tr>\n",
       "    <tr>\n",
       "      <th>3</th>\n",
       "      <td>Comedy, Drama, Romance</td>\n",
       "      <td>31357</td>\n",
       "      <td>en</td>\n",
       "      <td>Waiting to Exhale</td>\n",
       "      <td>Cheated on, mistreated and stepped on, the wom...</td>\n",
       "      <td>3.859495</td>\n",
       "      <td>Twentieth Century Fox Film Corporation</td>\n",
       "      <td>United States of America</td>\n",
       "      <td>English</td>\n",
       "      <td>6.1</td>\n",
       "      <td>based on novel, interracial relationship, sing...</td>\n",
       "      <td>Forest Whitaker, Ronald Bass, Ronald Bass, Ezr...</td>\n",
       "      <td>Savannah 'Vannah' Jackson, Bernadine 'Bernie' ...</td>\n",
       "      <td>Whitney Houston, Angela Bassett, Loretta Devin...</td>\n",
       "    </tr>\n",
       "    <tr>\n",
       "      <th>4</th>\n",
       "      <td>Comedy</td>\n",
       "      <td>11862</td>\n",
       "      <td>en</td>\n",
       "      <td>Father of the Bride Part II</td>\n",
       "      <td>Just when George Banks has recovered from his ...</td>\n",
       "      <td>8.387519</td>\n",
       "      <td>Sandollar Productions, Touchstone Pictures</td>\n",
       "      <td>United States of America</td>\n",
       "      <td>English</td>\n",
       "      <td>5.7</td>\n",
       "      <td>baby, midlife crisis, confidence, aging, daugh...</td>\n",
       "      <td>Alan Silvestri, Elliot Davis, Nancy Meyers, Na...</td>\n",
       "      <td>George Banks, Nina Banks, Franck Eggelhoffer, ...</td>\n",
       "      <td>Steve Martin, Diane Keaton, Martin Short, Kimb...</td>\n",
       "    </tr>\n",
       "  </tbody>\n",
       "</table>\n",
       "</div>"
      ],
      "text/plain": [
       "                       genres     id original_language  \\\n",
       "0   Animation, Comedy, Family    862                en   \n",
       "1  Adventure, Fantasy, Family   8844                en   \n",
       "2             Romance, Comedy  15602                en   \n",
       "3      Comedy, Drama, Romance  31357                en   \n",
       "4                      Comedy  11862                en   \n",
       "\n",
       "                original_title  \\\n",
       "0                    Toy Story   \n",
       "1                      Jumanji   \n",
       "2             Grumpier Old Men   \n",
       "3            Waiting to Exhale   \n",
       "4  Father of the Bride Part II   \n",
       "\n",
       "                                            overview popularity  \\\n",
       "0  Led by Woody, Andy's toys live happily in his ...  21.946943   \n",
       "1  When siblings Judy and Peter discover an encha...  17.015539   \n",
       "2  A family wedding reignites the ancient feud be...    11.7129   \n",
       "3  Cheated on, mistreated and stepped on, the wom...   3.859495   \n",
       "4  Just when George Banks has recovered from his ...   8.387519   \n",
       "\n",
       "                                production_companies  \\\n",
       "0                            Pixar Animation Studios   \n",
       "1  TriStar Pictures, Teitler Film, Interscope Com...   \n",
       "2                       Warner Bros., Lancaster Gate   \n",
       "3             Twentieth Century Fox Film Corporation   \n",
       "4         Sandollar Productions, Touchstone Pictures   \n",
       "\n",
       "       production_countries   spoken_languages  vote_average  \\\n",
       "0  United States of America            English           7.7   \n",
       "1  United States of America  English, Français           6.9   \n",
       "2  United States of America            English           6.5   \n",
       "3  United States of America            English           6.1   \n",
       "4  United States of America            English           5.7   \n",
       "\n",
       "                                            keywords  \\\n",
       "0  jealousy, toy, boy, friendship, friends, rival...   \n",
       "1  board game, disappearance, based on children's...   \n",
       "2  fishing, best friend, duringcreditsstinger, ol...   \n",
       "3  based on novel, interracial relationship, sing...   \n",
       "4  baby, midlife crisis, confidence, aging, daugh...   \n",
       "\n",
       "                                                crew  \\\n",
       "0  John Lasseter, Joss Whedon, Andrew Stanton, Jo...   \n",
       "1  Larry J. Franco, Jonathan Hensleigh, James Hor...   \n",
       "2  Howard Deutch, Mark Steven Johnson, Mark Steve...   \n",
       "3  Forest Whitaker, Ronald Bass, Ronald Bass, Ezr...   \n",
       "4  Alan Silvestri, Elliot Davis, Nancy Meyers, Na...   \n",
       "\n",
       "                                          characters  \\\n",
       "0  Woody (voice), Buzz Lightyear (voice), Mr. Pot...   \n",
       "1  Alan Parrish, Samuel Alan Parrish / Van Pelt, ...   \n",
       "2  Max Goldman, John Gustafson, Ariel Gustafson, ...   \n",
       "3  Savannah 'Vannah' Jackson, Bernadine 'Bernie' ...   \n",
       "4  George Banks, Nina Banks, Franck Eggelhoffer, ...   \n",
       "\n",
       "                                              actors  \n",
       "0  Tom Hanks, Tim Allen, Don Rickles, Jim Varney,...  \n",
       "1  Robin Williams, Jonathan Hyde, Kirsten Dunst, ...  \n",
       "2  Walter Matthau, Jack Lemmon, Ann-Margret, Soph...  \n",
       "3  Whitney Houston, Angela Bassett, Loretta Devin...  \n",
       "4  Steve Martin, Diane Keaton, Martin Short, Kimb...  "
      ]
     },
     "execution_count": 17,
     "metadata": {},
     "output_type": "execute_result"
    }
   ],
   "source": [
    "df.head()"
   ]
  },
  {
   "cell_type": "code",
   "execution_count": 18,
   "id": "fc797efe",
   "metadata": {
    "execution": {
     "iopub.execute_input": "2025-06-22T16:42:39.512521Z",
     "iopub.status.busy": "2025-06-22T16:42:39.512141Z",
     "iopub.status.idle": "2025-06-22T16:42:39.552135Z",
     "shell.execute_reply": "2025-06-22T16:42:39.551565Z"
    },
    "papermill": {
     "duration": 0.053077,
     "end_time": "2025-06-22T16:42:39.553242",
     "exception": false,
     "start_time": "2025-06-22T16:42:39.500165",
     "status": "completed"
    },
    "tags": []
   },
   "outputs": [
    {
     "data": {
      "text/plain": [
       "genres                  0\n",
       "id                      0\n",
       "original_language       0\n",
       "original_title          0\n",
       "overview                0\n",
       "popularity              0\n",
       "production_companies    0\n",
       "production_countries    0\n",
       "spoken_languages        0\n",
       "vote_average            0\n",
       "keywords                0\n",
       "crew                    0\n",
       "characters              0\n",
       "actors                  0\n",
       "dtype: int64"
      ]
     },
     "execution_count": 18,
     "metadata": {},
     "output_type": "execute_result"
    }
   ],
   "source": [
    "df.isna().sum()"
   ]
  },
  {
   "cell_type": "code",
   "execution_count": 19,
   "id": "753cfe12",
   "metadata": {
    "execution": {
     "iopub.execute_input": "2025-06-22T16:42:39.578009Z",
     "iopub.status.busy": "2025-06-22T16:42:39.577746Z",
     "iopub.status.idle": "2025-06-22T16:42:39.625642Z",
     "shell.execute_reply": "2025-06-22T16:42:39.624772Z"
    },
    "papermill": {
     "duration": 0.06134,
     "end_time": "2025-06-22T16:42:39.626748",
     "exception": false,
     "start_time": "2025-06-22T16:42:39.565408",
     "status": "completed"
    },
    "tags": []
   },
   "outputs": [
    {
     "name": "stdout",
     "output_type": "stream",
     "text": [
      "<class 'pandas.core.frame.DataFrame'>\n",
      "RangeIndex: 42373 entries, 0 to 42372\n",
      "Data columns (total 14 columns):\n",
      " #   Column                Non-Null Count  Dtype  \n",
      "---  ------                --------------  -----  \n",
      " 0   genres                42373 non-null  object \n",
      " 1   id                    42373 non-null  int64  \n",
      " 2   original_language     42373 non-null  object \n",
      " 3   original_title        42373 non-null  object \n",
      " 4   overview              42373 non-null  object \n",
      " 5   popularity            42373 non-null  object \n",
      " 6   production_companies  42373 non-null  object \n",
      " 7   production_countries  42373 non-null  object \n",
      " 8   spoken_languages      42373 non-null  object \n",
      " 9   vote_average          42373 non-null  float64\n",
      " 10  keywords              42373 non-null  object \n",
      " 11  crew                  42373 non-null  object \n",
      " 12  characters            42373 non-null  object \n",
      " 13  actors                42373 non-null  object \n",
      "dtypes: float64(1), int64(1), object(12)\n",
      "memory usage: 4.5+ MB\n"
     ]
    }
   ],
   "source": [
    "df.info()"
   ]
  },
  {
   "cell_type": "markdown",
   "id": "43852aaf",
   "metadata": {
    "papermill": {
     "duration": 0.011794,
     "end_time": "2025-06-22T16:42:39.651245",
     "exception": false,
     "start_time": "2025-06-22T16:42:39.639451",
     "status": "completed"
    },
    "tags": []
   },
   "source": [
    "Since the user will provide genres names and movies names,we can define the model like this that is \n",
    "\n",
    "Since our dataset contains textual information,genres and numeric information we can create a 3 dataset set that \n",
    "genres df,text data df and numeric data df and concatenate them to create the final df.\n",
    "Now Since user will input genre and movies name hence genre df and  text data df which will have movie name and other textual information\n",
    "\n",
    "Now what we do is a train a auto encoder model on these dataset...\n",
    "\n",
    "Now then we create movie embeddings from the model.. and also user embedding by taking user movie names,genres and taking those movies rows out of the orignal dataframe and then predicting on those records using model i.e get user embedding and then compare between those 2 embedding by cosine similarity...\n",
    "then get those reccomendation out"
   ]
  },
  {
   "attachments": {
    "3a6e3b0f-6cb9-403e-872c-a748d3fa0ef7.png": {
     "image/png": "[encoded data removed]"
    },
    "fdbc30dc-7d3f-4e19-b65d-42c8d9d34fd8.png": {
     "image/png": "[encoded data removed]"
    }
   },
   "cell_type": "markdown",
   "id": "436584f0",
   "metadata": {
    "papermill": {
     "duration": 0.011884,
     "end_time": "2025-06-22T16:42:39.674550",
     "exception": false,
     "start_time": "2025-06-22T16:42:39.662666",
     "status": "completed"
    },
    "tags": []
   },
   "source": [
    "Understanding tfid vectorizer\n",
    "![image.png](attachment:3a6e3b0f-6cb9-403e-872c-a748d3fa0ef7.png)\n",
    "![image.png](attachment:fdbc30dc-7d3f-4e19-b65d-42c8d9d34fd8.png)"
   ]
  },
  {
   "cell_type": "code",
   "execution_count": 20,
   "id": "ec6864b7",
   "metadata": {
    "execution": {
     "iopub.execute_input": "2025-06-22T16:42:39.700077Z",
     "iopub.status.busy": "2025-06-22T16:42:39.699841Z",
     "iopub.status.idle": "2025-06-22T16:42:39.724756Z",
     "shell.execute_reply": "2025-06-22T16:42:39.724262Z"
    },
    "papermill": {
     "duration": 0.03859,
     "end_time": "2025-06-22T16:42:39.725812",
     "exception": false,
     "start_time": "2025-06-22T16:42:39.687222",
     "status": "completed"
    },
    "tags": []
   },
   "outputs": [],
   "source": [
    "documents = [\"hello this guy speaking\",\"living in a world of adventure full of fantasies 2 guys set out to find their love ones\",\n",
    "            \"this cat can swim in a body of mercury\",\n",
    "            \"This superman works like spiderman\"]\n",
    "v = TfidfVectorizer()\n",
    "z = v.fit_transform(documents)"
   ]
  },
  {
   "cell_type": "code",
   "execution_count": 21,
   "id": "974838d5",
   "metadata": {
    "execution": {
     "iopub.execute_input": "2025-06-22T16:42:39.749356Z",
     "iopub.status.busy": "2025-06-22T16:42:39.749163Z",
     "iopub.status.idle": "2025-06-22T16:42:39.754509Z",
     "shell.execute_reply": "2025-06-22T16:42:39.753584Z"
    },
    "papermill": {
     "duration": 0.018675,
     "end_time": "2025-06-22T16:42:39.755781",
     "exception": false,
     "start_time": "2025-06-22T16:42:39.737106",
     "status": "completed"
    },
    "tags": []
   },
   "outputs": [
    {
     "name": "stdout",
     "output_type": "stream",
     "text": [
      "idf values\n",
      "adventure : 1.916290731874155\n",
      "body : 1.916290731874155\n",
      "can : 1.916290731874155\n",
      "cat : 1.916290731874155\n",
      "fantasies : 1.916290731874155\n",
      "find : 1.916290731874155\n",
      "full : 1.916290731874155\n",
      "guy : 1.916290731874155\n",
      "guys : 1.916290731874155\n",
      "hello : 1.916290731874155\n",
      "in : 1.5108256237659907\n",
      "like : 1.916290731874155\n",
      "living : 1.916290731874155\n",
      "love : 1.916290731874155\n",
      "mercury : 1.916290731874155\n",
      "of : 1.5108256237659907\n",
      "ones : 1.916290731874155\n",
      "out : 1.916290731874155\n",
      "set : 1.916290731874155\n",
      "speaking : 1.916290731874155\n",
      "spiderman : 1.916290731874155\n",
      "superman : 1.916290731874155\n",
      "swim : 1.916290731874155\n",
      "their : 1.916290731874155\n",
      "this : 1.2231435513142097\n",
      "to : 1.916290731874155\n",
      "works : 1.916290731874155\n",
      "world : 1.916290731874155\n"
     ]
    }
   ],
   "source": [
    "print('idf values')\n",
    "for f,o in zip(v.get_feature_names_out(),v.idf_):\n",
    "    print(f,\":\",o)"
   ]
  },
  {
   "cell_type": "code",
   "execution_count": 22,
   "id": "c9bec509",
   "metadata": {
    "execution": {
     "iopub.execute_input": "2025-06-22T16:42:39.780354Z",
     "iopub.status.busy": "2025-06-22T16:42:39.780133Z",
     "iopub.status.idle": "2025-06-22T16:42:39.784703Z",
     "shell.execute_reply": "2025-06-22T16:42:39.783912Z"
    },
    "papermill": {
     "duration": 0.01825,
     "end_time": "2025-06-22T16:42:39.786032",
     "exception": false,
     "start_time": "2025-06-22T16:42:39.767782",
     "status": "completed"
    },
    "tags": []
   },
   "outputs": [
    {
     "name": "stdout",
     "output_type": "stream",
     "text": [
      "\n",
      "Word indexes:\n",
      "{'hello': 9, 'this': 24, 'guy': 7, 'speaking': 19, 'living': 12, 'in': 10, 'world': 27, 'of': 15, 'adventure': 0, 'full': 6, 'fantasies': 4, 'guys': 8, 'set': 18, 'out': 17, 'to': 25, 'find': 5, 'their': 23, 'love': 13, 'ones': 16, 'cat': 3, 'can': 2, 'swim': 22, 'body': 1, 'mercury': 14, 'superman': 21, 'works': 26, 'like': 11, 'spiderman': 20}\n",
      "\n",
      "tf-idf value:\n",
      "<Compressed Sparse Row sparse matrix of dtype 'float64'\n",
      "\twith 32 stored elements and shape (4, 28)>\n",
      "  Coords\tValues\n",
      "  (0, 19)\t0.5417361046803605\n",
      "  (0, 7)\t0.5417361046803605\n",
      "  (0, 24)\t0.3457831381910465\n",
      "  (0, 9)\t0.5417361046803605\n",
      "  (1, 16)\t0.24916078099586603\n",
      "  (1, 13)\t0.24916078099586603\n",
      "  (1, 23)\t0.24916078099586603\n",
      "  (1, 5)\t0.24916078099586603\n",
      "  (1, 25)\t0.24916078099586603\n",
      "  (1, 17)\t0.24916078099586603\n",
      "  (1, 18)\t0.24916078099586603\n",
      "  (1, 8)\t0.24916078099586603\n",
      "  (1, 4)\t0.24916078099586603\n",
      "  (1, 6)\t0.24916078099586603\n",
      "  (1, 0)\t0.24916078099586603\n",
      "  (1, 15)\t0.39288244325842914\n",
      "  (1, 27)\t0.24916078099586603\n",
      "  (1, 10)\t0.19644122162921457\n",
      "  (1, 12)\t0.24916078099586603\n",
      "  (2, 14)\t0.3877659998198719\n",
      "  (2, 1)\t0.3877659998198719\n",
      "  (2, 22)\t0.3877659998198719\n",
      "  (2, 2)\t0.3877659998198719\n",
      "  (2, 3)\t0.3877659998198719\n",
      "  (2, 15)\t0.3057191681870401\n",
      "  (2, 10)\t0.3057191681870401\n",
      "  (2, 24)\t0.24750601472393421\n",
      "  (3, 20)\t0.476330352416757\n",
      "  (3, 11)\t0.476330352416757\n",
      "  (3, 26)\t0.476330352416757\n",
      "  (3, 21)\t0.476330352416757\n",
      "  (3, 24)\t0.30403549376037087\n"
     ]
    }
   ],
   "source": [
    "# get indexing\n",
    "print('\\nWord indexes:')\n",
    "print(v.vocabulary_)\n",
    "\n",
    "# display tf-idf values\n",
    "print('\\ntf-idf value:')\n",
    "print(z)\n"
   ]
  },
  {
   "cell_type": "code",
   "execution_count": 23,
   "id": "cc9d3daa",
   "metadata": {
    "execution": {
     "iopub.execute_input": "2025-06-22T16:42:39.813600Z",
     "iopub.status.busy": "2025-06-22T16:42:39.813324Z",
     "iopub.status.idle": "2025-06-22T16:42:39.872597Z",
     "shell.execute_reply": "2025-06-22T16:42:39.872090Z"
    },
    "papermill": {
     "duration": 0.074243,
     "end_time": "2025-06-22T16:42:39.873839",
     "exception": false,
     "start_time": "2025-06-22T16:42:39.799596",
     "status": "completed"
    },
    "tags": []
   },
   "outputs": [],
   "source": [
    "# Parse genres (string to list)\n",
    "df['genres'] = df['genres'].apply(lambda x: [g.strip().lower() for g in x.split(',')] if pd.notna(x) else [])\n"
   ]
  },
  {
   "cell_type": "code",
   "execution_count": 24,
   "id": "77faf3cb",
   "metadata": {
    "execution": {
     "iopub.execute_input": "2025-06-22T16:42:39.897703Z",
     "iopub.status.busy": "2025-06-22T16:42:39.897452Z",
     "iopub.status.idle": "2025-06-22T16:42:46.246090Z",
     "shell.execute_reply": "2025-06-22T16:42:46.245449Z"
    },
    "papermill": {
     "duration": 6.361802,
     "end_time": "2025-06-22T16:42:46.247549",
     "exception": false,
     "start_time": "2025-06-22T16:42:39.885747",
     "status": "completed"
    },
    "tags": []
   },
   "outputs": [],
   "source": [
    "\n",
    "import pandas as pd\n",
    "import numpy as np\n",
    "from sklearn.preprocessing import MultiLabelBinarizer, MinMaxScaler\n",
    "from sklearn.feature_extraction.text import TfidfVectorizer\n",
    "from sklearn.model_selection import train_test_split\n",
    "from tensorflow.keras.models import Model\n",
    "from tensorflow.keras.layers import Input, Dense\n",
    "from tensorflow.keras.optimizers import Adam\n",
    "\n",
    "# --- Load Data ---\n",
    "\n",
    "\n",
    "# --- Preprocessing ---\n",
    "\n",
    "# One-hot encode genres\n",
    "mlb = MultiLabelBinarizer()\n",
    "genre_features = mlb.fit_transform(df['genres']) # one hot encode feature \n",
    "genre_df = pd.DataFrame(genre_features, columns=mlb.classes_)\n",
    "# TF-IDF for overview + keywords\n",
    "text_data = (\n",
    "    df['overview'].fillna('') + ' ' +\n",
    "    df['original_title'].fillna('') + ' ' + # I added this portion\n",
    "    df['keywords'].fillna('') + ' ' +\n",
    "    df['production_companies'].fillna('') + ' ' +\n",
    "    df['production_countries'].fillna('') + ' ' +\n",
    "    df['spoken_languages'].fillna('') + ' ' +\n",
    "    df['crew'].fillna('') + ' ' +\n",
    "    df['characters'].fillna('') + ' ' +\n",
    "    df['actors'].fillna('')\n",
    ")\n",
    "tfidf = TfidfVectorizer(max_features=500)\n",
    "tfidf_matrix = tfidf.fit_transform(text_data).toarray()\n",
    "tfidf_df = pd.DataFrame(tfidf_matrix, columns=tfidf.get_feature_names_out())\n",
    "\n",
    "# Normalize popularity & vote_average\n",
    "scaler = MinMaxScaler()\n",
    "numeric_df = df[['popularity', 'vote_average']].copy()\n",
    "numeric_df = pd.DataFrame(scaler.fit_transform(numeric_df), columns=numeric_df.columns)\n",
    "\n",
    "# --- Final Feature Set ---\n",
    "features = pd.concat([genre_df, tfidf_df, numeric_df], axis=1)\n",
    "\n",
    "\n"
   ]
  },
  {
   "cell_type": "code",
   "execution_count": 25,
   "id": "0c828706",
   "metadata": {
    "execution": {
     "iopub.execute_input": "2025-06-22T16:42:46.273201Z",
     "iopub.status.busy": "2025-06-22T16:42:46.272977Z",
     "iopub.status.idle": "2025-06-22T16:42:46.314829Z",
     "shell.execute_reply": "2025-06-22T16:42:46.314128Z"
    },
    "papermill": {
     "duration": 0.056031,
     "end_time": "2025-06-22T16:42:46.316064",
     "exception": false,
     "start_time": "2025-06-22T16:42:46.260033",
     "status": "completed"
    },
    "tags": []
   },
   "outputs": [
    {
     "data": {
      "text/html": [
       "<div>\n",
       "<style scoped>\n",
       "    .dataframe tbody tr th:only-of-type {\n",
       "        vertical-align: middle;\n",
       "    }\n",
       "\n",
       "    .dataframe tbody tr th {\n",
       "        vertical-align: top;\n",
       "    }\n",
       "\n",
       "    .dataframe thead th {\n",
       "        text-align: right;\n",
       "    }\n",
       "</style>\n",
       "<table border=\"1\" class=\"dataframe\">\n",
       "  <thead>\n",
       "    <tr style=\"text-align: right;\">\n",
       "      <th></th>\n",
       "      <th>aaron</th>\n",
       "      <th>about</th>\n",
       "      <th>adam</th>\n",
       "      <th>after</th>\n",
       "      <th>against</th>\n",
       "      <th>agent</th>\n",
       "      <th>al</th>\n",
       "      <th>alan</th>\n",
       "      <th>albert</th>\n",
       "      <th>alex</th>\n",
       "      <th>...</th>\n",
       "      <th>woman</th>\n",
       "      <th>women</th>\n",
       "      <th>work</th>\n",
       "      <th>world</th>\n",
       "      <th>year</th>\n",
       "      <th>years</th>\n",
       "      <th>york</th>\n",
       "      <th>you</th>\n",
       "      <th>young</th>\n",
       "      <th>日本語</th>\n",
       "    </tr>\n",
       "  </thead>\n",
       "  <tbody>\n",
       "    <tr>\n",
       "      <th>0</th>\n",
       "      <td>0.000000</td>\n",
       "      <td>0.000000</td>\n",
       "      <td>0.000000</td>\n",
       "      <td>0.000000</td>\n",
       "      <td>0.057521</td>\n",
       "      <td>0.0</td>\n",
       "      <td>0.0</td>\n",
       "      <td>0.050711</td>\n",
       "      <td>0.000000</td>\n",
       "      <td>0.0</td>\n",
       "      <td>...</td>\n",
       "      <td>0.000000</td>\n",
       "      <td>0.000000</td>\n",
       "      <td>0.000000</td>\n",
       "      <td>0.000000</td>\n",
       "      <td>0.000000</td>\n",
       "      <td>0.000000</td>\n",
       "      <td>0.0</td>\n",
       "      <td>0.0</td>\n",
       "      <td>0.000000</td>\n",
       "      <td>0.0</td>\n",
       "    </tr>\n",
       "    <tr>\n",
       "      <th>1</th>\n",
       "      <td>0.000000</td>\n",
       "      <td>0.000000</td>\n",
       "      <td>0.090531</td>\n",
       "      <td>0.000000</td>\n",
       "      <td>0.000000</td>\n",
       "      <td>0.0</td>\n",
       "      <td>0.0</td>\n",
       "      <td>0.521492</td>\n",
       "      <td>0.000000</td>\n",
       "      <td>0.0</td>\n",
       "      <td>...</td>\n",
       "      <td>0.000000</td>\n",
       "      <td>0.000000</td>\n",
       "      <td>0.000000</td>\n",
       "      <td>0.075251</td>\n",
       "      <td>0.000000</td>\n",
       "      <td>0.084888</td>\n",
       "      <td>0.0</td>\n",
       "      <td>0.0</td>\n",
       "      <td>0.122088</td>\n",
       "      <td>0.0</td>\n",
       "    </tr>\n",
       "    <tr>\n",
       "      <th>2</th>\n",
       "      <td>0.000000</td>\n",
       "      <td>0.000000</td>\n",
       "      <td>0.000000</td>\n",
       "      <td>0.000000</td>\n",
       "      <td>0.000000</td>\n",
       "      <td>0.0</td>\n",
       "      <td>0.0</td>\n",
       "      <td>0.000000</td>\n",
       "      <td>0.000000</td>\n",
       "      <td>0.0</td>\n",
       "      <td>...</td>\n",
       "      <td>0.000000</td>\n",
       "      <td>0.000000</td>\n",
       "      <td>0.000000</td>\n",
       "      <td>0.000000</td>\n",
       "      <td>0.000000</td>\n",
       "      <td>0.000000</td>\n",
       "      <td>0.0</td>\n",
       "      <td>0.0</td>\n",
       "      <td>0.000000</td>\n",
       "      <td>0.0</td>\n",
       "    </tr>\n",
       "    <tr>\n",
       "      <th>3</th>\n",
       "      <td>0.000000</td>\n",
       "      <td>0.000000</td>\n",
       "      <td>0.000000</td>\n",
       "      <td>0.000000</td>\n",
       "      <td>0.000000</td>\n",
       "      <td>0.0</td>\n",
       "      <td>0.0</td>\n",
       "      <td>0.000000</td>\n",
       "      <td>0.000000</td>\n",
       "      <td>0.0</td>\n",
       "      <td>...</td>\n",
       "      <td>0.000000</td>\n",
       "      <td>0.160048</td>\n",
       "      <td>0.000000</td>\n",
       "      <td>0.000000</td>\n",
       "      <td>0.000000</td>\n",
       "      <td>0.000000</td>\n",
       "      <td>0.0</td>\n",
       "      <td>0.0</td>\n",
       "      <td>0.000000</td>\n",
       "      <td>0.0</td>\n",
       "    </tr>\n",
       "    <tr>\n",
       "      <th>4</th>\n",
       "      <td>0.000000</td>\n",
       "      <td>0.000000</td>\n",
       "      <td>0.110638</td>\n",
       "      <td>0.000000</td>\n",
       "      <td>0.000000</td>\n",
       "      <td>0.0</td>\n",
       "      <td>0.0</td>\n",
       "      <td>0.212439</td>\n",
       "      <td>0.123597</td>\n",
       "      <td>0.0</td>\n",
       "      <td>...</td>\n",
       "      <td>0.000000</td>\n",
       "      <td>0.000000</td>\n",
       "      <td>0.000000</td>\n",
       "      <td>0.000000</td>\n",
       "      <td>0.000000</td>\n",
       "      <td>0.000000</td>\n",
       "      <td>0.0</td>\n",
       "      <td>0.0</td>\n",
       "      <td>0.000000</td>\n",
       "      <td>0.0</td>\n",
       "    </tr>\n",
       "    <tr>\n",
       "      <th>...</th>\n",
       "      <td>...</td>\n",
       "      <td>...</td>\n",
       "      <td>...</td>\n",
       "      <td>...</td>\n",
       "      <td>...</td>\n",
       "      <td>...</td>\n",
       "      <td>...</td>\n",
       "      <td>...</td>\n",
       "      <td>...</td>\n",
       "      <td>...</td>\n",
       "      <td>...</td>\n",
       "      <td>...</td>\n",
       "      <td>...</td>\n",
       "      <td>...</td>\n",
       "      <td>...</td>\n",
       "      <td>...</td>\n",
       "      <td>...</td>\n",
       "      <td>...</td>\n",
       "      <td>...</td>\n",
       "      <td>...</td>\n",
       "      <td>...</td>\n",
       "    </tr>\n",
       "    <tr>\n",
       "      <th>42368</th>\n",
       "      <td>0.000000</td>\n",
       "      <td>0.000000</td>\n",
       "      <td>0.000000</td>\n",
       "      <td>0.000000</td>\n",
       "      <td>0.000000</td>\n",
       "      <td>0.0</td>\n",
       "      <td>0.0</td>\n",
       "      <td>0.000000</td>\n",
       "      <td>0.000000</td>\n",
       "      <td>0.0</td>\n",
       "      <td>...</td>\n",
       "      <td>0.000000</td>\n",
       "      <td>0.000000</td>\n",
       "      <td>0.000000</td>\n",
       "      <td>0.000000</td>\n",
       "      <td>0.000000</td>\n",
       "      <td>0.000000</td>\n",
       "      <td>0.0</td>\n",
       "      <td>0.0</td>\n",
       "      <td>0.000000</td>\n",
       "      <td>0.0</td>\n",
       "    </tr>\n",
       "    <tr>\n",
       "      <th>42369</th>\n",
       "      <td>0.146001</td>\n",
       "      <td>0.000000</td>\n",
       "      <td>0.000000</td>\n",
       "      <td>0.000000</td>\n",
       "      <td>0.000000</td>\n",
       "      <td>0.0</td>\n",
       "      <td>0.0</td>\n",
       "      <td>0.000000</td>\n",
       "      <td>0.000000</td>\n",
       "      <td>0.0</td>\n",
       "      <td>...</td>\n",
       "      <td>0.000000</td>\n",
       "      <td>0.286868</td>\n",
       "      <td>0.000000</td>\n",
       "      <td>0.103489</td>\n",
       "      <td>0.122594</td>\n",
       "      <td>0.116742</td>\n",
       "      <td>0.0</td>\n",
       "      <td>0.0</td>\n",
       "      <td>0.000000</td>\n",
       "      <td>0.0</td>\n",
       "    </tr>\n",
       "    <tr>\n",
       "      <th>42370</th>\n",
       "      <td>0.000000</td>\n",
       "      <td>0.251901</td>\n",
       "      <td>0.000000</td>\n",
       "      <td>0.000000</td>\n",
       "      <td>0.000000</td>\n",
       "      <td>0.0</td>\n",
       "      <td>0.0</td>\n",
       "      <td>0.000000</td>\n",
       "      <td>0.000000</td>\n",
       "      <td>0.0</td>\n",
       "      <td>...</td>\n",
       "      <td>0.421605</td>\n",
       "      <td>0.000000</td>\n",
       "      <td>0.334661</td>\n",
       "      <td>0.000000</td>\n",
       "      <td>0.000000</td>\n",
       "      <td>0.000000</td>\n",
       "      <td>0.0</td>\n",
       "      <td>0.0</td>\n",
       "      <td>0.000000</td>\n",
       "      <td>0.0</td>\n",
       "    </tr>\n",
       "    <tr>\n",
       "      <th>42371</th>\n",
       "      <td>0.000000</td>\n",
       "      <td>0.104106</td>\n",
       "      <td>0.000000</td>\n",
       "      <td>0.000000</td>\n",
       "      <td>0.000000</td>\n",
       "      <td>0.0</td>\n",
       "      <td>0.0</td>\n",
       "      <td>0.000000</td>\n",
       "      <td>0.000000</td>\n",
       "      <td>0.0</td>\n",
       "      <td>...</td>\n",
       "      <td>0.000000</td>\n",
       "      <td>0.000000</td>\n",
       "      <td>0.000000</td>\n",
       "      <td>0.000000</td>\n",
       "      <td>0.000000</td>\n",
       "      <td>0.000000</td>\n",
       "      <td>0.0</td>\n",
       "      <td>0.0</td>\n",
       "      <td>0.000000</td>\n",
       "      <td>0.0</td>\n",
       "    </tr>\n",
       "    <tr>\n",
       "      <th>42372</th>\n",
       "      <td>0.000000</td>\n",
       "      <td>0.000000</td>\n",
       "      <td>0.000000</td>\n",
       "      <td>0.218803</td>\n",
       "      <td>0.000000</td>\n",
       "      <td>0.0</td>\n",
       "      <td>0.0</td>\n",
       "      <td>0.000000</td>\n",
       "      <td>0.000000</td>\n",
       "      <td>0.0</td>\n",
       "      <td>...</td>\n",
       "      <td>0.000000</td>\n",
       "      <td>0.322622</td>\n",
       "      <td>0.000000</td>\n",
       "      <td>0.000000</td>\n",
       "      <td>0.000000</td>\n",
       "      <td>0.262583</td>\n",
       "      <td>0.0</td>\n",
       "      <td>0.0</td>\n",
       "      <td>0.000000</td>\n",
       "      <td>0.0</td>\n",
       "    </tr>\n",
       "  </tbody>\n",
       "</table>\n",
       "<p>42373 rows × 500 columns</p>\n",
       "</div>"
      ],
      "text/plain": [
       "          aaron     about      adam     after   against  agent   al      alan  \\\n",
       "0      0.000000  0.000000  0.000000  0.000000  0.057521    0.0  0.0  0.050711   \n",
       "1      0.000000  0.000000  0.090531  0.000000  0.000000    0.0  0.0  0.521492   \n",
       "2      0.000000  0.000000  0.000000  0.000000  0.000000    0.0  0.0  0.000000   \n",
       "3      0.000000  0.000000  0.000000  0.000000  0.000000    0.0  0.0  0.000000   \n",
       "4      0.000000  0.000000  0.110638  0.000000  0.000000    0.0  0.0  0.212439   \n",
       "...         ...       ...       ...       ...       ...    ...  ...       ...   \n",
       "42368  0.000000  0.000000  0.000000  0.000000  0.000000    0.0  0.0  0.000000   \n",
       "42369  0.146001  0.000000  0.000000  0.000000  0.000000    0.0  0.0  0.000000   \n",
       "42370  0.000000  0.251901  0.000000  0.000000  0.000000    0.0  0.0  0.000000   \n",
       "42371  0.000000  0.104106  0.000000  0.000000  0.000000    0.0  0.0  0.000000   \n",
       "42372  0.000000  0.000000  0.000000  0.218803  0.000000    0.0  0.0  0.000000   \n",
       "\n",
       "         albert  alex  ...     woman     women      work     world      year  \\\n",
       "0      0.000000   0.0  ...  0.000000  0.000000  0.000000  0.000000  0.000000   \n",
       "1      0.000000   0.0  ...  0.000000  0.000000  0.000000  0.075251  0.000000   \n",
       "2      0.000000   0.0  ...  0.000000  0.000000  0.000000  0.000000  0.000000   \n",
       "3      0.000000   0.0  ...  0.000000  0.160048  0.000000  0.000000  0.000000   \n",
       "4      0.123597   0.0  ...  0.000000  0.000000  0.000000  0.000000  0.000000   \n",
       "...         ...   ...  ...       ...       ...       ...       ...       ...   \n",
       "42368  0.000000   0.0  ...  0.000000  0.000000  0.000000  0.000000  0.000000   \n",
       "42369  0.000000   0.0  ...  0.000000  0.286868  0.000000  0.103489  0.122594   \n",
       "42370  0.000000   0.0  ...  0.421605  0.000000  0.334661  0.000000  0.000000   \n",
       "42371  0.000000   0.0  ...  0.000000  0.000000  0.000000  0.000000  0.000000   \n",
       "42372  0.000000   0.0  ...  0.000000  0.322622  0.000000  0.000000  0.000000   \n",
       "\n",
       "          years  york  you     young  日本語  \n",
       "0      0.000000   0.0  0.0  0.000000  0.0  \n",
       "1      0.084888   0.0  0.0  0.122088  0.0  \n",
       "2      0.000000   0.0  0.0  0.000000  0.0  \n",
       "3      0.000000   0.0  0.0  0.000000  0.0  \n",
       "4      0.000000   0.0  0.0  0.000000  0.0  \n",
       "...         ...   ...  ...       ...  ...  \n",
       "42368  0.000000   0.0  0.0  0.000000  0.0  \n",
       "42369  0.116742   0.0  0.0  0.000000  0.0  \n",
       "42370  0.000000   0.0  0.0  0.000000  0.0  \n",
       "42371  0.000000   0.0  0.0  0.000000  0.0  \n",
       "42372  0.262583   0.0  0.0  0.000000  0.0  \n",
       "\n",
       "[42373 rows x 500 columns]"
      ]
     },
     "execution_count": 25,
     "metadata": {},
     "output_type": "execute_result"
    }
   ],
   "source": [
    "tfidf_df"
   ]
  },
  {
   "cell_type": "code",
   "execution_count": 26,
   "id": "174e2d17",
   "metadata": {
    "execution": {
     "iopub.execute_input": "2025-06-22T16:42:46.342763Z",
     "iopub.status.busy": "2025-06-22T16:42:46.342318Z",
     "iopub.status.idle": "2025-06-22T16:42:46.347684Z",
     "shell.execute_reply": "2025-06-22T16:42:46.347106Z"
    },
    "papermill": {
     "duration": 0.019662,
     "end_time": "2025-06-22T16:42:46.348853",
     "exception": false,
     "start_time": "2025-06-22T16:42:46.329191",
     "status": "completed"
    },
    "tags": []
   },
   "outputs": [
    {
     "data": {
      "text/plain": [
       "0        Led by Woody, Andy's toys live happily in his ...\n",
       "1        When siblings Judy and Peter discover an encha...\n",
       "2        A family wedding reignites the ancient feud be...\n",
       "3        Cheated on, mistreated and stepped on, the wom...\n",
       "4        Just when George Banks has recovered from his ...\n",
       "                               ...                        \n",
       "42368    A film archivist revisits the story of Rustin ...\n",
       "42369    It's the year 3000 AD. The world's most danger...\n",
       "42370    An artist struggles to finish his work while a...\n",
       "42371    In a small town live two brothers, one a minis...\n",
       "42372    50 years after decriminalisation of homosexual...\n",
       "Length: 42373, dtype: object"
      ]
     },
     "execution_count": 26,
     "metadata": {},
     "output_type": "execute_result"
    }
   ],
   "source": [
    "text_data"
   ]
  },
  {
   "cell_type": "code",
   "execution_count": 27,
   "id": "9c3660a7",
   "metadata": {
    "execution": {
     "iopub.execute_input": "2025-06-22T16:42:46.373848Z",
     "iopub.status.busy": "2025-06-22T16:42:46.373670Z",
     "iopub.status.idle": "2025-06-22T16:42:46.379832Z",
     "shell.execute_reply": "2025-06-22T16:42:46.379105Z"
    },
    "papermill": {
     "duration": 0.019257,
     "end_time": "2025-06-22T16:42:46.380962",
     "exception": false,
     "start_time": "2025-06-22T16:42:46.361705",
     "status": "completed"
    },
    "tags": []
   },
   "outputs": [
    {
     "data": {
      "text/plain": [
       "0         [animation, comedy, family]\n",
       "1        [adventure, fantasy, family]\n",
       "2                   [romance, comedy]\n",
       "3            [comedy, drama, romance]\n",
       "4                            [comedy]\n",
       "                     ...             \n",
       "42368                        [horror]\n",
       "42369               [science fiction]\n",
       "42370                         [drama]\n",
       "42371                              []\n",
       "42372                              []\n",
       "Name: genres, Length: 42373, dtype: object"
      ]
     },
     "execution_count": 27,
     "metadata": {},
     "output_type": "execute_result"
    }
   ],
   "source": [
    "df['genres']"
   ]
  },
  {
   "cell_type": "code",
   "execution_count": 28,
   "id": "508bdf86",
   "metadata": {
    "execution": {
     "iopub.execute_input": "2025-06-22T16:42:46.406519Z",
     "iopub.status.busy": "2025-06-22T16:42:46.406053Z",
     "iopub.status.idle": "2025-06-22T16:42:46.431511Z",
     "shell.execute_reply": "2025-06-22T16:42:46.430863Z"
    },
    "papermill": {
     "duration": 0.039898,
     "end_time": "2025-06-22T16:42:46.432777",
     "exception": false,
     "start_time": "2025-06-22T16:42:46.392879",
     "status": "completed"
    },
    "tags": []
   },
   "outputs": [
    {
     "data": {
      "text/html": [
       "<div>\n",
       "<style scoped>\n",
       "    .dataframe tbody tr th:only-of-type {\n",
       "        vertical-align: middle;\n",
       "    }\n",
       "\n",
       "    .dataframe tbody tr th {\n",
       "        vertical-align: top;\n",
       "    }\n",
       "\n",
       "    .dataframe thead th {\n",
       "        text-align: right;\n",
       "    }\n",
       "</style>\n",
       "<table border=\"1\" class=\"dataframe\">\n",
       "  <thead>\n",
       "    <tr style=\"text-align: right;\">\n",
       "      <th></th>\n",
       "      <th></th>\n",
       "      <th>action</th>\n",
       "      <th>adventure</th>\n",
       "      <th>animation</th>\n",
       "      <th>comedy</th>\n",
       "      <th>crime</th>\n",
       "      <th>documentary</th>\n",
       "      <th>drama</th>\n",
       "      <th>family</th>\n",
       "      <th>fantasy</th>\n",
       "      <th>...</th>\n",
       "      <th>work</th>\n",
       "      <th>world</th>\n",
       "      <th>year</th>\n",
       "      <th>years</th>\n",
       "      <th>york</th>\n",
       "      <th>you</th>\n",
       "      <th>young</th>\n",
       "      <th>日本語</th>\n",
       "      <th>popularity</th>\n",
       "      <th>vote_average</th>\n",
       "    </tr>\n",
       "  </thead>\n",
       "  <tbody>\n",
       "    <tr>\n",
       "      <th>0</th>\n",
       "      <td>0</td>\n",
       "      <td>0</td>\n",
       "      <td>0</td>\n",
       "      <td>1</td>\n",
       "      <td>1</td>\n",
       "      <td>0</td>\n",
       "      <td>0</td>\n",
       "      <td>0</td>\n",
       "      <td>1</td>\n",
       "      <td>0</td>\n",
       "      <td>...</td>\n",
       "      <td>0.000000</td>\n",
       "      <td>0.000000</td>\n",
       "      <td>0.000000</td>\n",
       "      <td>0.000000</td>\n",
       "      <td>0.0</td>\n",
       "      <td>0.0</td>\n",
       "      <td>0.000000</td>\n",
       "      <td>0.0</td>\n",
       "      <td>0.040087</td>\n",
       "      <td>0.77</td>\n",
       "    </tr>\n",
       "    <tr>\n",
       "      <th>1</th>\n",
       "      <td>0</td>\n",
       "      <td>0</td>\n",
       "      <td>1</td>\n",
       "      <td>0</td>\n",
       "      <td>0</td>\n",
       "      <td>0</td>\n",
       "      <td>0</td>\n",
       "      <td>0</td>\n",
       "      <td>1</td>\n",
       "      <td>1</td>\n",
       "      <td>...</td>\n",
       "      <td>0.000000</td>\n",
       "      <td>0.075251</td>\n",
       "      <td>0.000000</td>\n",
       "      <td>0.084888</td>\n",
       "      <td>0.0</td>\n",
       "      <td>0.0</td>\n",
       "      <td>0.122088</td>\n",
       "      <td>0.0</td>\n",
       "      <td>0.031079</td>\n",
       "      <td>0.69</td>\n",
       "    </tr>\n",
       "    <tr>\n",
       "      <th>2</th>\n",
       "      <td>0</td>\n",
       "      <td>0</td>\n",
       "      <td>0</td>\n",
       "      <td>0</td>\n",
       "      <td>1</td>\n",
       "      <td>0</td>\n",
       "      <td>0</td>\n",
       "      <td>0</td>\n",
       "      <td>0</td>\n",
       "      <td>0</td>\n",
       "      <td>...</td>\n",
       "      <td>0.000000</td>\n",
       "      <td>0.000000</td>\n",
       "      <td>0.000000</td>\n",
       "      <td>0.000000</td>\n",
       "      <td>0.0</td>\n",
       "      <td>0.0</td>\n",
       "      <td>0.000000</td>\n",
       "      <td>0.0</td>\n",
       "      <td>0.021394</td>\n",
       "      <td>0.65</td>\n",
       "    </tr>\n",
       "    <tr>\n",
       "      <th>3</th>\n",
       "      <td>0</td>\n",
       "      <td>0</td>\n",
       "      <td>0</td>\n",
       "      <td>0</td>\n",
       "      <td>1</td>\n",
       "      <td>0</td>\n",
       "      <td>0</td>\n",
       "      <td>1</td>\n",
       "      <td>0</td>\n",
       "      <td>0</td>\n",
       "      <td>...</td>\n",
       "      <td>0.000000</td>\n",
       "      <td>0.000000</td>\n",
       "      <td>0.000000</td>\n",
       "      <td>0.000000</td>\n",
       "      <td>0.0</td>\n",
       "      <td>0.0</td>\n",
       "      <td>0.000000</td>\n",
       "      <td>0.0</td>\n",
       "      <td>0.007049</td>\n",
       "      <td>0.61</td>\n",
       "    </tr>\n",
       "    <tr>\n",
       "      <th>4</th>\n",
       "      <td>0</td>\n",
       "      <td>0</td>\n",
       "      <td>0</td>\n",
       "      <td>0</td>\n",
       "      <td>1</td>\n",
       "      <td>0</td>\n",
       "      <td>0</td>\n",
       "      <td>0</td>\n",
       "      <td>0</td>\n",
       "      <td>0</td>\n",
       "      <td>...</td>\n",
       "      <td>0.000000</td>\n",
       "      <td>0.000000</td>\n",
       "      <td>0.000000</td>\n",
       "      <td>0.000000</td>\n",
       "      <td>0.0</td>\n",
       "      <td>0.0</td>\n",
       "      <td>0.000000</td>\n",
       "      <td>0.0</td>\n",
       "      <td>0.015320</td>\n",
       "      <td>0.57</td>\n",
       "    </tr>\n",
       "    <tr>\n",
       "      <th>...</th>\n",
       "      <td>...</td>\n",
       "      <td>...</td>\n",
       "      <td>...</td>\n",
       "      <td>...</td>\n",
       "      <td>...</td>\n",
       "      <td>...</td>\n",
       "      <td>...</td>\n",
       "      <td>...</td>\n",
       "      <td>...</td>\n",
       "      <td>...</td>\n",
       "      <td>...</td>\n",
       "      <td>...</td>\n",
       "      <td>...</td>\n",
       "      <td>...</td>\n",
       "      <td>...</td>\n",
       "      <td>...</td>\n",
       "      <td>...</td>\n",
       "      <td>...</td>\n",
       "      <td>...</td>\n",
       "      <td>...</td>\n",
       "      <td>...</td>\n",
       "    </tr>\n",
       "    <tr>\n",
       "      <th>42368</th>\n",
       "      <td>0</td>\n",
       "      <td>0</td>\n",
       "      <td>0</td>\n",
       "      <td>0</td>\n",
       "      <td>0</td>\n",
       "      <td>0</td>\n",
       "      <td>0</td>\n",
       "      <td>0</td>\n",
       "      <td>0</td>\n",
       "      <td>0</td>\n",
       "      <td>...</td>\n",
       "      <td>0.000000</td>\n",
       "      <td>0.000000</td>\n",
       "      <td>0.000000</td>\n",
       "      <td>0.000000</td>\n",
       "      <td>0.0</td>\n",
       "      <td>0.0</td>\n",
       "      <td>0.000000</td>\n",
       "      <td>0.0</td>\n",
       "      <td>0.000706</td>\n",
       "      <td>0.70</td>\n",
       "    </tr>\n",
       "    <tr>\n",
       "      <th>42369</th>\n",
       "      <td>0</td>\n",
       "      <td>0</td>\n",
       "      <td>0</td>\n",
       "      <td>0</td>\n",
       "      <td>0</td>\n",
       "      <td>0</td>\n",
       "      <td>0</td>\n",
       "      <td>0</td>\n",
       "      <td>0</td>\n",
       "      <td>0</td>\n",
       "      <td>...</td>\n",
       "      <td>0.000000</td>\n",
       "      <td>0.103489</td>\n",
       "      <td>0.122594</td>\n",
       "      <td>0.116742</td>\n",
       "      <td>0.0</td>\n",
       "      <td>0.0</td>\n",
       "      <td>0.000000</td>\n",
       "      <td>0.0</td>\n",
       "      <td>0.001208</td>\n",
       "      <td>0.35</td>\n",
       "    </tr>\n",
       "    <tr>\n",
       "      <th>42370</th>\n",
       "      <td>0</td>\n",
       "      <td>0</td>\n",
       "      <td>0</td>\n",
       "      <td>0</td>\n",
       "      <td>0</td>\n",
       "      <td>0</td>\n",
       "      <td>0</td>\n",
       "      <td>1</td>\n",
       "      <td>0</td>\n",
       "      <td>0</td>\n",
       "      <td>...</td>\n",
       "      <td>0.334661</td>\n",
       "      <td>0.000000</td>\n",
       "      <td>0.000000</td>\n",
       "      <td>0.000000</td>\n",
       "      <td>0.0</td>\n",
       "      <td>0.0</td>\n",
       "      <td>0.000000</td>\n",
       "      <td>0.0</td>\n",
       "      <td>0.000326</td>\n",
       "      <td>0.90</td>\n",
       "    </tr>\n",
       "    <tr>\n",
       "      <th>42371</th>\n",
       "      <td>1</td>\n",
       "      <td>0</td>\n",
       "      <td>0</td>\n",
       "      <td>0</td>\n",
       "      <td>0</td>\n",
       "      <td>0</td>\n",
       "      <td>0</td>\n",
       "      <td>0</td>\n",
       "      <td>0</td>\n",
       "      <td>0</td>\n",
       "      <td>...</td>\n",
       "      <td>0.000000</td>\n",
       "      <td>0.000000</td>\n",
       "      <td>0.000000</td>\n",
       "      <td>0.000000</td>\n",
       "      <td>0.0</td>\n",
       "      <td>0.0</td>\n",
       "      <td>0.000000</td>\n",
       "      <td>0.0</td>\n",
       "      <td>0.000006</td>\n",
       "      <td>0.00</td>\n",
       "    </tr>\n",
       "    <tr>\n",
       "      <th>42372</th>\n",
       "      <td>1</td>\n",
       "      <td>0</td>\n",
       "      <td>0</td>\n",
       "      <td>0</td>\n",
       "      <td>0</td>\n",
       "      <td>0</td>\n",
       "      <td>0</td>\n",
       "      <td>0</td>\n",
       "      <td>0</td>\n",
       "      <td>0</td>\n",
       "      <td>...</td>\n",
       "      <td>0.000000</td>\n",
       "      <td>0.000000</td>\n",
       "      <td>0.000000</td>\n",
       "      <td>0.262583</td>\n",
       "      <td>0.0</td>\n",
       "      <td>0.0</td>\n",
       "      <td>0.000000</td>\n",
       "      <td>0.0</td>\n",
       "      <td>0.000298</td>\n",
       "      <td>0.00</td>\n",
       "    </tr>\n",
       "  </tbody>\n",
       "</table>\n",
       "<p>42373 rows × 523 columns</p>\n",
       "</div>"
      ],
      "text/plain": [
       "          action  adventure  animation  comedy  crime  documentary  drama  \\\n",
       "0      0       0          0          1       1      0            0      0   \n",
       "1      0       0          1          0       0      0            0      0   \n",
       "2      0       0          0          0       1      0            0      0   \n",
       "3      0       0          0          0       1      0            0      1   \n",
       "4      0       0          0          0       1      0            0      0   \n",
       "...   ..     ...        ...        ...     ...    ...          ...    ...   \n",
       "42368  0       0          0          0       0      0            0      0   \n",
       "42369  0       0          0          0       0      0            0      0   \n",
       "42370  0       0          0          0       0      0            0      1   \n",
       "42371  1       0          0          0       0      0            0      0   \n",
       "42372  1       0          0          0       0      0            0      0   \n",
       "\n",
       "       family  fantasy  ...      work     world      year     years  york  \\\n",
       "0           1        0  ...  0.000000  0.000000  0.000000  0.000000   0.0   \n",
       "1           1        1  ...  0.000000  0.075251  0.000000  0.084888   0.0   \n",
       "2           0        0  ...  0.000000  0.000000  0.000000  0.000000   0.0   \n",
       "3           0        0  ...  0.000000  0.000000  0.000000  0.000000   0.0   \n",
       "4           0        0  ...  0.000000  0.000000  0.000000  0.000000   0.0   \n",
       "...       ...      ...  ...       ...       ...       ...       ...   ...   \n",
       "42368       0        0  ...  0.000000  0.000000  0.000000  0.000000   0.0   \n",
       "42369       0        0  ...  0.000000  0.103489  0.122594  0.116742   0.0   \n",
       "42370       0        0  ...  0.334661  0.000000  0.000000  0.000000   0.0   \n",
       "42371       0        0  ...  0.000000  0.000000  0.000000  0.000000   0.0   \n",
       "42372       0        0  ...  0.000000  0.000000  0.000000  0.262583   0.0   \n",
       "\n",
       "       you     young  日本語  popularity  vote_average  \n",
       "0      0.0  0.000000  0.0    0.040087          0.77  \n",
       "1      0.0  0.122088  0.0    0.031079          0.69  \n",
       "2      0.0  0.000000  0.0    0.021394          0.65  \n",
       "3      0.0  0.000000  0.0    0.007049          0.61  \n",
       "4      0.0  0.000000  0.0    0.015320          0.57  \n",
       "...    ...       ...  ...         ...           ...  \n",
       "42368  0.0  0.000000  0.0    0.000706          0.70  \n",
       "42369  0.0  0.000000  0.0    0.001208          0.35  \n",
       "42370  0.0  0.000000  0.0    0.000326          0.90  \n",
       "42371  0.0  0.000000  0.0    0.000006          0.00  \n",
       "42372  0.0  0.000000  0.0    0.000298          0.00  \n",
       "\n",
       "[42373 rows x 523 columns]"
      ]
     },
     "execution_count": 28,
     "metadata": {},
     "output_type": "execute_result"
    }
   ],
   "source": [
    "features"
   ]
  },
  {
   "cell_type": "code",
   "execution_count": 29,
   "id": "88489859",
   "metadata": {
    "execution": {
     "iopub.execute_input": "2025-06-22T16:42:46.460467Z",
     "iopub.status.busy": "2025-06-22T16:42:46.460246Z",
     "iopub.status.idle": "2025-06-22T16:42:46.487247Z",
     "shell.execute_reply": "2025-06-22T16:42:46.486666Z"
    },
    "papermill": {
     "duration": 0.041793,
     "end_time": "2025-06-22T16:42:46.488547",
     "exception": false,
     "start_time": "2025-06-22T16:42:46.446754",
     "status": "completed"
    },
    "tags": []
   },
   "outputs": [],
   "source": [
    "df_c = df.copy()"
   ]
  },
  {
   "cell_type": "code",
   "execution_count": 30,
   "id": "2e2f3d45",
   "metadata": {
    "execution": {
     "iopub.execute_input": "2025-06-22T16:42:46.514720Z",
     "iopub.status.busy": "2025-06-22T16:42:46.514496Z",
     "iopub.status.idle": "2025-06-22T16:43:30.342912Z",
     "shell.execute_reply": "2025-06-22T16:43:30.342164Z"
    },
    "papermill": {
     "duration": 43.842748,
     "end_time": "2025-06-22T16:43:30.344195",
     "exception": false,
     "start_time": "2025-06-22T16:42:46.501447",
     "status": "completed"
    },
    "tags": []
   },
   "outputs": [
    {
     "name": "stderr",
     "output_type": "stream",
     "text": [
      "I0000 00:00:1750610568.956454      19 gpu_device.cc:2022] Created device /job:localhost/replica:0/task:0/device:GPU:0 with 13942 MB memory:  -> device: 0, name: Tesla T4, pci bus id: 0000:00:04.0, compute capability: 7.5\n",
      "I0000 00:00:1750610568.957199      19 gpu_device.cc:2022] Created device /job:localhost/replica:0/task:0/device:GPU:1 with 13942 MB memory:  -> device: 1, name: Tesla T4, pci bus id: 0000:00:05.0, compute capability: 7.5\n"
     ]
    },
    {
     "name": "stdout",
     "output_type": "stream",
     "text": [
      "Epoch 1/20\n"
     ]
    },
    {
     "name": "stderr",
     "output_type": "stream",
     "text": [
      "WARNING: All log messages before absl::InitializeLog() is called are written to STDERR\n",
      "I0000 00:00:1750610574.011260      60 service.cc:148] XLA service 0x7b1de800c860 initialized for platform CUDA (this does not guarantee that XLA will be used). Devices:\n",
      "I0000 00:00:1750610574.012773      60 service.cc:156]   StreamExecutor device (0): Tesla T4, Compute Capability 7.5\n",
      "I0000 00:00:1750610574.012794      60 service.cc:156]   StreamExecutor device (1): Tesla T4, Compute Capability 7.5\n",
      "I0000 00:00:1750610574.398629      60 cuda_dnn.cc:529] Loaded cuDNN version 90300\n"
     ]
    },
    {
     "name": "stdout",
     "output_type": "stream",
     "text": [
      "\u001b[1m 73/530\u001b[0m \u001b[32m━━\u001b[0m\u001b[37m━━━━━━━━━━━━━━━━━━\u001b[0m \u001b[1m0s\u001b[0m 2ms/step - loss: 0.0053"
     ]
    },
    {
     "name": "stderr",
     "output_type": "stream",
     "text": [
      "I0000 00:00:1750610575.666502      60 device_compiler.h:188] Compiled cluster using XLA!  This line is logged at most once for the lifetime of the process.\n"
     ]
    },
    {
     "name": "stdout",
     "output_type": "stream",
     "text": [
      "\u001b[1m530/530\u001b[0m \u001b[32m━━━━━━━━━━━━━━━━━━━━\u001b[0m\u001b[37m\u001b[0m \u001b[1m7s\u001b[0m 6ms/step - loss: 0.0032 - val_loss: 0.0016\n",
      "Epoch 2/20\n",
      "\u001b[1m530/530\u001b[0m \u001b[32m━━━━━━━━━━━━━━━━━━━━\u001b[0m\u001b[37m\u001b[0m \u001b[1m1s\u001b[0m 3ms/step - loss: 0.0015 - val_loss: 0.0014\n",
      "Epoch 3/20\n",
      "\u001b[1m530/530\u001b[0m \u001b[32m━━━━━━━━━━━━━━━━━━━━\u001b[0m\u001b[37m\u001b[0m \u001b[1m1s\u001b[0m 3ms/step - loss: 0.0014 - val_loss: 0.0014\n",
      "Epoch 4/20\n",
      "\u001b[1m530/530\u001b[0m \u001b[32m━━━━━━━━━━━━━━━━━━━━\u001b[0m\u001b[37m\u001b[0m \u001b[1m1s\u001b[0m 3ms/step - loss: 0.0013 - val_loss: 0.0013\n",
      "Epoch 5/20\n",
      "\u001b[1m530/530\u001b[0m \u001b[32m━━━━━━━━━━━━━━━━━━━━\u001b[0m\u001b[37m\u001b[0m \u001b[1m2s\u001b[0m 3ms/step - loss: 0.0013 - val_loss: 0.0013\n",
      "Epoch 6/20\n",
      "\u001b[1m530/530\u001b[0m \u001b[32m━━━━━━━━━━━━━━━━━━━━\u001b[0m\u001b[37m\u001b[0m \u001b[1m1s\u001b[0m 3ms/step - loss: 0.0013 - val_loss: 0.0013\n",
      "Epoch 7/20\n",
      "\u001b[1m530/530\u001b[0m \u001b[32m━━━━━━━━━━━━━━━━━━━━\u001b[0m\u001b[37m\u001b[0m \u001b[1m1s\u001b[0m 3ms/step - loss: 0.0012 - val_loss: 0.0012\n",
      "Epoch 8/20\n",
      "\u001b[1m530/530\u001b[0m \u001b[32m━━━━━━━━━━━━━━━━━━━━\u001b[0m\u001b[37m\u001b[0m \u001b[1m1s\u001b[0m 3ms/step - loss: 0.0012 - val_loss: 0.0012\n",
      "Epoch 9/20\n",
      "\u001b[1m530/530\u001b[0m \u001b[32m━━━━━━━━━━━━━━━━━━━━\u001b[0m\u001b[37m\u001b[0m \u001b[1m1s\u001b[0m 3ms/step - loss: 0.0012 - val_loss: 0.0012\n",
      "Epoch 10/20\n",
      "\u001b[1m530/530\u001b[0m \u001b[32m━━━━━━━━━━━━━━━━━━━━\u001b[0m\u001b[37m\u001b[0m \u001b[1m1s\u001b[0m 3ms/step - loss: 0.0012 - val_loss: 0.0012\n",
      "Epoch 11/20\n",
      "\u001b[1m530/530\u001b[0m \u001b[32m━━━━━━━━━━━━━━━━━━━━\u001b[0m\u001b[37m\u001b[0m \u001b[1m1s\u001b[0m 3ms/step - loss: 0.0012 - val_loss: 0.0012\n",
      "Epoch 12/20\n",
      "\u001b[1m530/530\u001b[0m \u001b[32m━━━━━━━━━━━━━━━━━━━━\u001b[0m\u001b[37m\u001b[0m \u001b[1m1s\u001b[0m 3ms/step - loss: 0.0012 - val_loss: 0.0012\n",
      "Epoch 13/20\n",
      "\u001b[1m530/530\u001b[0m \u001b[32m━━━━━━━━━━━━━━━━━━━━\u001b[0m\u001b[37m\u001b[0m \u001b[1m1s\u001b[0m 3ms/step - loss: 0.0012 - val_loss: 0.0012\n",
      "Epoch 14/20\n",
      "\u001b[1m530/530\u001b[0m \u001b[32m━━━━━━━━━━━━━━━━━━━━\u001b[0m\u001b[37m\u001b[0m \u001b[1m1s\u001b[0m 3ms/step - loss: 0.0012 - val_loss: 0.0012\n",
      "Epoch 15/20\n",
      "\u001b[1m530/530\u001b[0m \u001b[32m━━━━━━━━━━━━━━━━━━━━\u001b[0m\u001b[37m\u001b[0m \u001b[1m1s\u001b[0m 3ms/step - loss: 0.0012 - val_loss: 0.0012\n",
      "Epoch 16/20\n",
      "\u001b[1m530/530\u001b[0m \u001b[32m━━━━━━━━━━━━━━━━━━━━\u001b[0m\u001b[37m\u001b[0m \u001b[1m1s\u001b[0m 3ms/step - loss: 0.0012 - val_loss: 0.0012\n",
      "Epoch 17/20\n",
      "\u001b[1m530/530\u001b[0m \u001b[32m━━━━━━━━━━━━━━━━━━━━\u001b[0m\u001b[37m\u001b[0m \u001b[1m1s\u001b[0m 3ms/step - loss: 0.0012 - val_loss: 0.0012\n",
      "Epoch 18/20\n",
      "\u001b[1m530/530\u001b[0m \u001b[32m━━━━━━━━━━━━━━━━━━━━\u001b[0m\u001b[37m\u001b[0m \u001b[1m1s\u001b[0m 3ms/step - loss: 0.0012 - val_loss: 0.0012\n",
      "Epoch 19/20\n",
      "\u001b[1m530/530\u001b[0m \u001b[32m━━━━━━━━━━━━━━━━━━━━\u001b[0m\u001b[37m\u001b[0m \u001b[1m1s\u001b[0m 3ms/step - loss: 0.0012 - val_loss: 0.0012\n",
      "Epoch 20/20\n",
      "\u001b[1m530/530\u001b[0m \u001b[32m━━━━━━━━━━━━━━━━━━━━\u001b[0m\u001b[37m\u001b[0m \u001b[1m1s\u001b[0m 3ms/step - loss: 0.0012 - val_loss: 0.0012\n",
      "\u001b[1m1325/1325\u001b[0m \u001b[32m━━━━━━━━━━━━━━━━━━━━\u001b[0m\u001b[37m\u001b[0m \u001b[1m3s\u001b[0m 2ms/step\n"
     ]
    },
    {
     "data": {
      "text/plain": [
       "'\"\\nfrom sklearn.metrics.pairwise import cosine_similarity\\n\\nuser_embedding = model.predict(user_profile)\\nsim_scores = cosine_similarity(user_embedding, movie_embeddings).flatten()\\n\\n# Top N recommendations\\ndf_c[\\'score\\'] = sim_scores\\nrecommendations = df_c.sort_values(by=\\'score\\', ascending=False)\\n\\n# Show top 10\\nprint(recommendations[[\\'original_title\\', \\'score\\']].head(10))\\n'"
      ]
     },
     "execution_count": 30,
     "metadata": {},
     "output_type": "execute_result"
    }
   ],
   "source": [
    "\n",
    "# --- Build Model ---\n",
    "input_dim = features.shape[1]\n",
    "input_layer = Input(shape=(input_dim,), name='movie_input')\n",
    "x = Dense(256, activation='relu')(input_layer)\n",
    "x = Dense(128, activation='relu')(x)\n",
    "embedding = Dense(64, activation='linear', name='embedding')(x)\n",
    "# Decoder\n",
    "x = Dense(128, activation='relu')(embedding)\n",
    "x = Dense(256, activation='relu')(x)\n",
    "\n",
    "output_layer = Dense(input_dim, activation='linear')(x)\n",
    "\n",
    "model = Model(inputs=input_layer, outputs=output_layer)\n",
    "model.compile(optimizer='adam', loss='mse')\n",
    "\n",
    "# --- Train to reconstruct (autoencoder-style pretraining) ---\n",
    "X_train, X_test = train_test_split(features.values, test_size=0.2, random_state=42)\n",
    "model.fit(X_train, X_train, epochs=20, batch_size=64, validation_data=(X_test, X_test))\n",
    "\n",
    "# --- Get Embeddings ---\n",
    "movie_embeddings = model.predict(features.values)\n",
    "\n",
    "# --- Recommend Similar Movies ---\n",
    "\"\"\"\"\n",
    "from sklearn.metrics.pairwise import cosine_similarity\n",
    "\n",
    "user_embedding = model.predict(user_profile)\n",
    "sim_scores = cosine_similarity(user_embedding, movie_embeddings).flatten()\n",
    "\n",
    "# Top N recommendations\n",
    "df_c['score'] = sim_scores\n",
    "recommendations = df_c.sort_values(by='score', ascending=False)\n",
    "\n",
    "# Show top 10\n",
    "print(recommendations[['original_title', 'score']].head(10))\n",
    "\"\"\""
   ]
  },
  {
   "cell_type": "code",
   "execution_count": 31,
   "id": "b63eb401",
   "metadata": {
    "execution": {
     "iopub.execute_input": "2025-06-22T16:43:30.414385Z",
     "iopub.status.busy": "2025-06-22T16:43:30.414137Z",
     "iopub.status.idle": "2025-06-22T16:43:30.434060Z",
     "shell.execute_reply": "2025-06-22T16:43:30.433448Z"
    },
    "papermill": {
     "duration": 0.05556,
     "end_time": "2025-06-22T16:43:30.435256",
     "exception": false,
     "start_time": "2025-06-22T16:43:30.379696",
     "status": "completed"
    },
    "tags": []
   },
   "outputs": [
    {
     "data": {
      "text/html": [
       "<div>\n",
       "<style scoped>\n",
       "    .dataframe tbody tr th:only-of-type {\n",
       "        vertical-align: middle;\n",
       "    }\n",
       "\n",
       "    .dataframe tbody tr th {\n",
       "        vertical-align: top;\n",
       "    }\n",
       "\n",
       "    .dataframe thead th {\n",
       "        text-align: right;\n",
       "    }\n",
       "</style>\n",
       "<table border=\"1\" class=\"dataframe\">\n",
       "  <thead>\n",
       "    <tr style=\"text-align: right;\">\n",
       "      <th></th>\n",
       "      <th></th>\n",
       "      <th>action</th>\n",
       "      <th>adventure</th>\n",
       "      <th>animation</th>\n",
       "      <th>comedy</th>\n",
       "      <th>crime</th>\n",
       "      <th>documentary</th>\n",
       "      <th>drama</th>\n",
       "      <th>family</th>\n",
       "      <th>fantasy</th>\n",
       "      <th>...</th>\n",
       "      <th>work</th>\n",
       "      <th>world</th>\n",
       "      <th>year</th>\n",
       "      <th>years</th>\n",
       "      <th>york</th>\n",
       "      <th>you</th>\n",
       "      <th>young</th>\n",
       "      <th>日本語</th>\n",
       "      <th>popularity</th>\n",
       "      <th>vote_average</th>\n",
       "    </tr>\n",
       "  </thead>\n",
       "  <tbody>\n",
       "    <tr>\n",
       "      <th>0</th>\n",
       "      <td>0</td>\n",
       "      <td>0</td>\n",
       "      <td>0</td>\n",
       "      <td>1</td>\n",
       "      <td>1</td>\n",
       "      <td>0</td>\n",
       "      <td>0</td>\n",
       "      <td>0</td>\n",
       "      <td>1</td>\n",
       "      <td>0</td>\n",
       "      <td>...</td>\n",
       "      <td>0.0</td>\n",
       "      <td>0.000000</td>\n",
       "      <td>0.0</td>\n",
       "      <td>0.000000</td>\n",
       "      <td>0.0</td>\n",
       "      <td>0.0</td>\n",
       "      <td>0.000000</td>\n",
       "      <td>0.0</td>\n",
       "      <td>0.040087</td>\n",
       "      <td>0.77</td>\n",
       "    </tr>\n",
       "    <tr>\n",
       "      <th>1</th>\n",
       "      <td>0</td>\n",
       "      <td>0</td>\n",
       "      <td>1</td>\n",
       "      <td>0</td>\n",
       "      <td>0</td>\n",
       "      <td>0</td>\n",
       "      <td>0</td>\n",
       "      <td>0</td>\n",
       "      <td>1</td>\n",
       "      <td>1</td>\n",
       "      <td>...</td>\n",
       "      <td>0.0</td>\n",
       "      <td>0.075251</td>\n",
       "      <td>0.0</td>\n",
       "      <td>0.084888</td>\n",
       "      <td>0.0</td>\n",
       "      <td>0.0</td>\n",
       "      <td>0.122088</td>\n",
       "      <td>0.0</td>\n",
       "      <td>0.031079</td>\n",
       "      <td>0.69</td>\n",
       "    </tr>\n",
       "    <tr>\n",
       "      <th>2</th>\n",
       "      <td>0</td>\n",
       "      <td>0</td>\n",
       "      <td>0</td>\n",
       "      <td>0</td>\n",
       "      <td>1</td>\n",
       "      <td>0</td>\n",
       "      <td>0</td>\n",
       "      <td>0</td>\n",
       "      <td>0</td>\n",
       "      <td>0</td>\n",
       "      <td>...</td>\n",
       "      <td>0.0</td>\n",
       "      <td>0.000000</td>\n",
       "      <td>0.0</td>\n",
       "      <td>0.000000</td>\n",
       "      <td>0.0</td>\n",
       "      <td>0.0</td>\n",
       "      <td>0.000000</td>\n",
       "      <td>0.0</td>\n",
       "      <td>0.021394</td>\n",
       "      <td>0.65</td>\n",
       "    </tr>\n",
       "    <tr>\n",
       "      <th>3</th>\n",
       "      <td>0</td>\n",
       "      <td>0</td>\n",
       "      <td>0</td>\n",
       "      <td>0</td>\n",
       "      <td>1</td>\n",
       "      <td>0</td>\n",
       "      <td>0</td>\n",
       "      <td>1</td>\n",
       "      <td>0</td>\n",
       "      <td>0</td>\n",
       "      <td>...</td>\n",
       "      <td>0.0</td>\n",
       "      <td>0.000000</td>\n",
       "      <td>0.0</td>\n",
       "      <td>0.000000</td>\n",
       "      <td>0.0</td>\n",
       "      <td>0.0</td>\n",
       "      <td>0.000000</td>\n",
       "      <td>0.0</td>\n",
       "      <td>0.007049</td>\n",
       "      <td>0.61</td>\n",
       "    </tr>\n",
       "    <tr>\n",
       "      <th>4</th>\n",
       "      <td>0</td>\n",
       "      <td>0</td>\n",
       "      <td>0</td>\n",
       "      <td>0</td>\n",
       "      <td>1</td>\n",
       "      <td>0</td>\n",
       "      <td>0</td>\n",
       "      <td>0</td>\n",
       "      <td>0</td>\n",
       "      <td>0</td>\n",
       "      <td>...</td>\n",
       "      <td>0.0</td>\n",
       "      <td>0.000000</td>\n",
       "      <td>0.0</td>\n",
       "      <td>0.000000</td>\n",
       "      <td>0.0</td>\n",
       "      <td>0.0</td>\n",
       "      <td>0.000000</td>\n",
       "      <td>0.0</td>\n",
       "      <td>0.015320</td>\n",
       "      <td>0.57</td>\n",
       "    </tr>\n",
       "  </tbody>\n",
       "</table>\n",
       "<p>5 rows × 523 columns</p>\n",
       "</div>"
      ],
      "text/plain": [
       "      action  adventure  animation  comedy  crime  documentary  drama  family  \\\n",
       "0  0       0          0          1       1      0            0      0       1   \n",
       "1  0       0          1          0       0      0            0      0       1   \n",
       "2  0       0          0          0       1      0            0      0       0   \n",
       "3  0       0          0          0       1      0            0      1       0   \n",
       "4  0       0          0          0       1      0            0      0       0   \n",
       "\n",
       "   fantasy  ...  work     world  year     years  york  you     young  日本語  \\\n",
       "0        0  ...   0.0  0.000000   0.0  0.000000   0.0  0.0  0.000000  0.0   \n",
       "1        1  ...   0.0  0.075251   0.0  0.084888   0.0  0.0  0.122088  0.0   \n",
       "2        0  ...   0.0  0.000000   0.0  0.000000   0.0  0.0  0.000000  0.0   \n",
       "3        0  ...   0.0  0.000000   0.0  0.000000   0.0  0.0  0.000000  0.0   \n",
       "4        0  ...   0.0  0.000000   0.0  0.000000   0.0  0.0  0.000000  0.0   \n",
       "\n",
       "   popularity  vote_average  \n",
       "0    0.040087          0.77  \n",
       "1    0.031079          0.69  \n",
       "2    0.021394          0.65  \n",
       "3    0.007049          0.61  \n",
       "4    0.015320          0.57  \n",
       "\n",
       "[5 rows x 523 columns]"
      ]
     },
     "execution_count": 31,
     "metadata": {},
     "output_type": "execute_result"
    }
   ],
   "source": [
    "features.head()"
   ]
  },
  {
   "cell_type": "code",
   "execution_count": 32,
   "id": "67009aa1",
   "metadata": {
    "execution": {
     "iopub.execute_input": "2025-06-22T16:43:30.505356Z",
     "iopub.status.busy": "2025-06-22T16:43:30.505132Z",
     "iopub.status.idle": "2025-06-22T16:43:33.356444Z",
     "shell.execute_reply": "2025-06-22T16:43:33.355820Z"
    },
    "papermill": {
     "duration": 2.887376,
     "end_time": "2025-06-22T16:43:33.357799",
     "exception": false,
     "start_time": "2025-06-22T16:43:30.470423",
     "status": "completed"
    },
    "tags": []
   },
   "outputs": [
    {
     "name": "stdout",
     "output_type": "stream",
     "text": [
      "\u001b[1m1325/1325\u001b[0m \u001b[32m━━━━━━━━━━━━━━━━━━━━\u001b[0m\u001b[37m\u001b[0m \u001b[1m2s\u001b[0m 1ms/step\n"
     ]
    }
   ],
   "source": [
    "# --- Get Embeddings ---\n",
    "movie_embeddings = model.predict(features.values)\n"
   ]
  },
  {
   "cell_type": "code",
   "execution_count": 33,
   "id": "29758ec0",
   "metadata": {
    "execution": {
     "iopub.execute_input": "2025-06-22T16:43:33.430628Z",
     "iopub.status.busy": "2025-06-22T16:43:33.430427Z",
     "iopub.status.idle": "2025-06-22T16:43:33.439115Z",
     "shell.execute_reply": "2025-06-22T16:43:33.438282Z"
    },
    "papermill": {
     "duration": 0.045429,
     "end_time": "2025-06-22T16:43:33.440283",
     "exception": false,
     "start_time": "2025-06-22T16:43:33.394854",
     "status": "completed"
    },
    "tags": []
   },
   "outputs": [],
   "source": [
    "# --- Simulated User Profile ---\n",
    "liked_titles = [\"American Psycho\"]\n",
    "liked_movies = features[df['original_title'].isin(liked_titles)]\n",
    "user_profile = liked_movies.mean().values.reshape(1, -1)"
   ]
  },
  {
   "cell_type": "code",
   "execution_count": 34,
   "id": "a3236918",
   "metadata": {
    "execution": {
     "iopub.execute_input": "2025-06-22T16:43:33.512704Z",
     "iopub.status.busy": "2025-06-22T16:43:33.512466Z",
     "iopub.status.idle": "2025-06-22T16:43:33.964061Z",
     "shell.execute_reply": "2025-06-22T16:43:33.963011Z"
    },
    "papermill": {
     "duration": 0.489144,
     "end_time": "2025-06-22T16:43:33.965198",
     "exception": false,
     "start_time": "2025-06-22T16:43:33.476054",
     "status": "completed"
    },
    "tags": []
   },
   "outputs": [
    {
     "name": "stdout",
     "output_type": "stream",
     "text": [
      "\u001b[1m1/1\u001b[0m \u001b[32m━━━━━━━━━━━━━━━━━━━━\u001b[0m\u001b[37m\u001b[0m \u001b[1m0s\u001b[0m 262ms/step\n",
      "            original_title     score\n",
      "3360       American Psycho  1.000000\n",
      "1761      A Perfect Murder  0.980991\n",
      "37442       The Accountant  0.979300\n",
      "13832  Law Abiding Citizen  0.979184\n",
      "39125         Patriots Day  0.978479\n",
      "23295         Nightcrawler  0.978456\n",
      "3128           Boiler Room  0.975429\n",
      "1572         The Rainmaker  0.973368\n",
      "7903            Collateral  0.973338\n",
      "42111          Shot Caller  0.972846\n"
     ]
    }
   ],
   "source": [
    "# --- Recommend Similar Movies ---\n",
    "from sklearn.metrics.pairwise import cosine_similarity\n",
    "\n",
    "user_embedding = model.predict(user_profile)\n",
    "sim_scores = cosine_similarity(user_embedding, movie_embeddings).flatten()\n",
    "\n",
    "# Create a new DataFrame for recommendations\n",
    "recommendations_df = df.copy()\n",
    "recommendations_df['score'] = sim_scores\n",
    "\n",
    "# Sort by score and show top 10\n",
    "top_recommendations = recommendations_df.sort_values(by='score', ascending=False)\n",
    "print(top_recommendations[['original_title', 'score']].head(10))"
   ]
  },
  {
   "cell_type": "code",
   "execution_count": 35,
   "id": "781e9794",
   "metadata": {
    "execution": {
     "iopub.execute_input": "2025-06-22T16:43:34.039070Z",
     "iopub.status.busy": "2025-06-22T16:43:34.038633Z",
     "iopub.status.idle": "2025-06-22T16:43:34.042211Z",
     "shell.execute_reply": "2025-06-22T16:43:34.041519Z"
    },
    "papermill": {
     "duration": 0.041171,
     "end_time": "2025-06-22T16:43:34.043443",
     "exception": false,
     "start_time": "2025-06-22T16:43:34.002272",
     "status": "completed"
    },
    "tags": []
   },
   "outputs": [],
   "source": [
    "liked_titles = [\"American Psycho\"]\n",
    "liked_genres = ['drama','family']  # user-input favorite genres\n"
   ]
  },
  {
   "cell_type": "code",
   "execution_count": 36,
   "id": "57d62a7a",
   "metadata": {
    "execution": {
     "iopub.execute_input": "2025-06-22T16:43:34.116819Z",
     "iopub.status.busy": "2025-06-22T16:43:34.116618Z",
     "iopub.status.idle": "2025-06-22T16:43:34.121681Z",
     "shell.execute_reply": "2025-06-22T16:43:34.121094Z"
    },
    "papermill": {
     "duration": 0.042926,
     "end_time": "2025-06-22T16:43:34.122828",
     "exception": false,
     "start_time": "2025-06-22T16:43:34.079902",
     "status": "completed"
    },
    "tags": []
   },
   "outputs": [],
   "source": [
    "# Find vectors for liked movies\n",
    "liked_movie_vectors = features[df_c['original_title'].isin(liked_titles)]\n"
   ]
  },
  {
   "cell_type": "code",
   "execution_count": 37,
   "id": "ad593d46",
   "metadata": {
    "execution": {
     "iopub.execute_input": "2025-06-22T16:43:34.198431Z",
     "iopub.status.busy": "2025-06-22T16:43:34.198032Z",
     "iopub.status.idle": "2025-06-22T16:43:34.201162Z",
     "shell.execute_reply": "2025-06-22T16:43:34.200644Z"
    },
    "papermill": {
     "duration": 0.040775,
     "end_time": "2025-06-22T16:43:34.202119",
     "exception": false,
     "start_time": "2025-06-22T16:43:34.161344",
     "status": "completed"
    },
    "tags": []
   },
   "outputs": [],
   "source": [
    "# 'genre_encoded' contains one-hot genre columns like ['Drama', 'Crime', 'Action', ...]\n",
    "genre_columns = genre_df.columns.tolist()\n"
   ]
  },
  {
   "cell_type": "code",
   "execution_count": 38,
   "id": "877be630",
   "metadata": {
    "execution": {
     "iopub.execute_input": "2025-06-22T16:43:34.278174Z",
     "iopub.status.busy": "2025-06-22T16:43:34.277972Z",
     "iopub.status.idle": "2025-06-22T16:43:34.282447Z",
     "shell.execute_reply": "2025-06-22T16:43:34.281917Z"
    },
    "papermill": {
     "duration": 0.044553,
     "end_time": "2025-06-22T16:43:34.283522",
     "exception": false,
     "start_time": "2025-06-22T16:43:34.238969",
     "status": "completed"
    },
    "tags": []
   },
   "outputs": [
    {
     "data": {
      "text/plain": [
       "['',\n",
       " 'action',\n",
       " 'adventure',\n",
       " 'animation',\n",
       " 'comedy',\n",
       " 'crime',\n",
       " 'documentary',\n",
       " 'drama',\n",
       " 'family',\n",
       " 'fantasy',\n",
       " 'foreign',\n",
       " 'history',\n",
       " 'horror',\n",
       " 'music',\n",
       " 'mystery',\n",
       " 'romance',\n",
       " 'science fiction',\n",
       " 'thriller',\n",
       " 'tv movie',\n",
       " 'war',\n",
       " 'western']"
      ]
     },
     "execution_count": 38,
     "metadata": {},
     "output_type": "execute_result"
    }
   ],
   "source": [
    "genre_columns"
   ]
  },
  {
   "cell_type": "code",
   "execution_count": 39,
   "id": "5a8fd049",
   "metadata": {
    "execution": {
     "iopub.execute_input": "2025-06-22T16:43:34.356731Z",
     "iopub.status.busy": "2025-06-22T16:43:34.356550Z",
     "iopub.status.idle": "2025-06-22T16:43:34.361975Z",
     "shell.execute_reply": "2025-06-22T16:43:34.361426Z"
    },
    "papermill": {
     "duration": 0.043255,
     "end_time": "2025-06-22T16:43:34.363205",
     "exception": false,
     "start_time": "2025-06-22T16:43:34.319950",
     "status": "completed"
    },
    "tags": []
   },
   "outputs": [],
   "source": [
    "# Create a zero vector for all genres\n",
    "genre_vector = pd.Series([0] * len(genre_columns), index=genre_columns, dtype=float)\n",
    "\n",
    "# Set the liked genres to 1\n",
    "for g in liked_genres:\n",
    "    if g in genre_vector:\n",
    "        genre_vector[g] = 1.0\n",
    "\n",
    "# Broadcast genre_vector to the same shape as features\n",
    "genre_vector_full = pd.Series([0.0] * features.shape[1], index=features.columns)\n",
    "\n",
    "# Insert the genre values into their positions\n",
    "genre_vector_full.update(genre_vector)\n"
   ]
  },
  {
   "cell_type": "code",
   "execution_count": 40,
   "id": "de7883c6",
   "metadata": {
    "execution": {
     "iopub.execute_input": "2025-06-22T16:43:34.441851Z",
     "iopub.status.busy": "2025-06-22T16:43:34.441640Z",
     "iopub.status.idle": "2025-06-22T16:43:34.446683Z",
     "shell.execute_reply": "2025-06-22T16:43:34.446036Z"
    },
    "papermill": {
     "duration": 0.043064,
     "end_time": "2025-06-22T16:43:34.447732",
     "exception": false,
     "start_time": "2025-06-22T16:43:34.404668",
     "status": "completed"
    },
    "tags": []
   },
   "outputs": [],
   "source": [
    "# Average movie vector\n",
    "liked_movie_mean = liked_movie_vectors.mean()\n",
    "\n",
    "# Combine with genre vector (weighted sum)\n",
    "user_profile_series = 0.6 * liked_movie_mean + 0.4 * genre_vector_full\n",
    "user_profile = user_profile_series.values.reshape(1, -1)\n"
   ]
  },
  {
   "cell_type": "code",
   "execution_count": 41,
   "id": "35312fc3",
   "metadata": {
    "execution": {
     "iopub.execute_input": "2025-06-22T16:43:34.520443Z",
     "iopub.status.busy": "2025-06-22T16:43:34.520225Z",
     "iopub.status.idle": "2025-06-22T16:43:37.657949Z",
     "shell.execute_reply": "2025-06-22T16:43:37.656846Z"
    },
    "papermill": {
     "duration": 3.175484,
     "end_time": "2025-06-22T16:43:37.659394",
     "exception": false,
     "start_time": "2025-06-22T16:43:34.483910",
     "status": "completed"
    },
    "tags": []
   },
   "outputs": [
    {
     "name": "stdout",
     "output_type": "stream",
     "text": [
      "\u001b[1m1325/1325\u001b[0m \u001b[32m━━━━━━━━━━━━━━━━━━━━\u001b[0m\u001b[37m\u001b[0m \u001b[1m2s\u001b[0m 1ms/step\n",
      "\u001b[1m1/1\u001b[0m \u001b[32m━━━━━━━━━━━━━━━━━━━━\u001b[0m\u001b[37m\u001b[0m \u001b[1m0s\u001b[0m 31ms/step\n",
      "                    original_title     score\n",
      "3360               American Psycho  0.937516\n",
      "1761              A Perfect Murder  0.925338\n",
      "13832          Law Abiding Citizen  0.924101\n",
      "19382                   The Iceman  0.923981\n",
      "30145                 Sand Castles  0.923630\n",
      "24224          A Most Violent Year  0.923414\n",
      "1393              City of Industry  0.922763\n",
      "10105        A History of Violence  0.922547\n",
      "1572                 The Rainmaker  0.922225\n",
      "7754   María, llena eres de gracia  0.921813\n"
     ]
    }
   ],
   "source": [
    "# Get movie embeddings\n",
    "movie_embeddings = model.predict(features.values)\n",
    "user_embedding = model.predict(user_profile)\n",
    "\n",
    "# Compute similarity\n",
    "from sklearn.metrics.pairwise import cosine_similarity\n",
    "sim_scores = cosine_similarity(user_embedding, movie_embeddings).flatten()\n",
    "\n",
    "# Attach and sort\n",
    "df_c['score'] = sim_scores\n",
    "recommendations = df_c.sort_values(by='score', ascending=False)\n",
    "\n",
    "# Top 10\n",
    "print(recommendations[['original_title', 'score']].head(10))\n"
   ]
  },
  {
   "cell_type": "markdown",
   "id": "7ae05c69",
   "metadata": {
    "papermill": {
     "duration": 0.042189,
     "end_time": "2025-06-22T16:43:37.745031",
     "exception": false,
     "start_time": "2025-06-22T16:43:37.702842",
     "status": "completed"
    },
    "tags": []
   },
   "source": [
    "### Reccomendation in function"
   ]
  },
  {
   "cell_type": "code",
   "execution_count": null,
   "id": "dd247936",
   "metadata": {
    "execution": {
     "iopub.execute_input": "2025-06-18T05:02:56.737046Z",
     "iopub.status.busy": "2025-06-18T05:02:56.736400Z",
     "iopub.status.idle": "2025-06-18T05:02:56.741678Z",
     "shell.execute_reply": "2025-06-18T05:02:56.740995Z",
     "shell.execute_reply.started": "2025-06-18T05:02:56.737025Z"
    },
    "papermill": {
     "duration": 0.038574,
     "end_time": "2025-06-22T16:43:37.824693",
     "exception": false,
     "start_time": "2025-06-22T16:43:37.786119",
     "status": "completed"
    },
    "tags": []
   },
   "outputs": [],
   "source": []
  },
  {
   "cell_type": "code",
   "execution_count": 42,
   "id": "7be79ed9",
   "metadata": {
    "execution": {
     "iopub.execute_input": "2025-06-22T16:43:37.900578Z",
     "iopub.status.busy": "2025-06-22T16:43:37.900294Z",
     "iopub.status.idle": "2025-06-22T16:43:37.921216Z",
     "shell.execute_reply": "2025-06-22T16:43:37.920487Z"
    },
    "papermill": {
     "duration": 0.060084,
     "end_time": "2025-06-22T16:43:37.922381",
     "exception": false,
     "start_time": "2025-06-22T16:43:37.862297",
     "status": "completed"
    },
    "tags": []
   },
   "outputs": [
    {
     "data": {
      "text/html": [
       "<div>\n",
       "<style scoped>\n",
       "    .dataframe tbody tr th:only-of-type {\n",
       "        vertical-align: middle;\n",
       "    }\n",
       "\n",
       "    .dataframe tbody tr th {\n",
       "        vertical-align: top;\n",
       "    }\n",
       "\n",
       "    .dataframe thead th {\n",
       "        text-align: right;\n",
       "    }\n",
       "</style>\n",
       "<table border=\"1\" class=\"dataframe\">\n",
       "  <thead>\n",
       "    <tr style=\"text-align: right;\">\n",
       "      <th></th>\n",
       "      <th></th>\n",
       "      <th>action</th>\n",
       "      <th>adventure</th>\n",
       "      <th>animation</th>\n",
       "      <th>comedy</th>\n",
       "      <th>crime</th>\n",
       "      <th>documentary</th>\n",
       "      <th>drama</th>\n",
       "      <th>family</th>\n",
       "      <th>fantasy</th>\n",
       "      <th>...</th>\n",
       "      <th>work</th>\n",
       "      <th>world</th>\n",
       "      <th>year</th>\n",
       "      <th>years</th>\n",
       "      <th>york</th>\n",
       "      <th>you</th>\n",
       "      <th>young</th>\n",
       "      <th>日本語</th>\n",
       "      <th>popularity</th>\n",
       "      <th>vote_average</th>\n",
       "    </tr>\n",
       "  </thead>\n",
       "  <tbody>\n",
       "    <tr>\n",
       "      <th>821</th>\n",
       "      <td>0</td>\n",
       "      <td>0</td>\n",
       "      <td>0</td>\n",
       "      <td>0</td>\n",
       "      <td>0</td>\n",
       "      <td>1</td>\n",
       "      <td>0</td>\n",
       "      <td>1</td>\n",
       "      <td>0</td>\n",
       "      <td>0</td>\n",
       "      <td>...</td>\n",
       "      <td>0.0</td>\n",
       "      <td>0.000000</td>\n",
       "      <td>0.0</td>\n",
       "      <td>0.035322</td>\n",
       "      <td>0.00000</td>\n",
       "      <td>0.0</td>\n",
       "      <td>0.000000</td>\n",
       "      <td>0.0</td>\n",
       "      <td>0.075087</td>\n",
       "      <td>0.85</td>\n",
       "    </tr>\n",
       "    <tr>\n",
       "      <th>1486</th>\n",
       "      <td>0</td>\n",
       "      <td>1</td>\n",
       "      <td>1</td>\n",
       "      <td>0</td>\n",
       "      <td>1</td>\n",
       "      <td>0</td>\n",
       "      <td>0</td>\n",
       "      <td>0</td>\n",
       "      <td>0</td>\n",
       "      <td>0</td>\n",
       "      <td>...</td>\n",
       "      <td>0.0</td>\n",
       "      <td>0.000000</td>\n",
       "      <td>0.0</td>\n",
       "      <td>0.000000</td>\n",
       "      <td>0.00000</td>\n",
       "      <td>0.0</td>\n",
       "      <td>0.000000</td>\n",
       "      <td>0.0</td>\n",
       "      <td>0.028824</td>\n",
       "      <td>0.69</td>\n",
       "    </tr>\n",
       "    <tr>\n",
       "      <th>21166</th>\n",
       "      <td>0</td>\n",
       "      <td>0</td>\n",
       "      <td>0</td>\n",
       "      <td>0</td>\n",
       "      <td>1</td>\n",
       "      <td>1</td>\n",
       "      <td>0</td>\n",
       "      <td>1</td>\n",
       "      <td>0</td>\n",
       "      <td>0</td>\n",
       "      <td>...</td>\n",
       "      <td>0.0</td>\n",
       "      <td>0.015807</td>\n",
       "      <td>0.0</td>\n",
       "      <td>0.017831</td>\n",
       "      <td>0.02065</td>\n",
       "      <td>0.0</td>\n",
       "      <td>0.025645</td>\n",
       "      <td>0.0</td>\n",
       "      <td>0.029923</td>\n",
       "      <td>0.79</td>\n",
       "    </tr>\n",
       "  </tbody>\n",
       "</table>\n",
       "<p>3 rows × 523 columns</p>\n",
       "</div>"
      ],
      "text/plain": [
       "          action  adventure  animation  comedy  crime  documentary  drama  \\\n",
       "821    0       0          0          0       0      1            0      1   \n",
       "1486   0       1          1          0       1      0            0      0   \n",
       "21166  0       0          0          0       1      1            0      1   \n",
       "\n",
       "       family  fantasy  ...  work     world  year     years     york  you  \\\n",
       "821         0        0  ...   0.0  0.000000   0.0  0.035322  0.00000  0.0   \n",
       "1486        0        0  ...   0.0  0.000000   0.0  0.000000  0.00000  0.0   \n",
       "21166       0        0  ...   0.0  0.015807   0.0  0.017831  0.02065  0.0   \n",
       "\n",
       "          young  日本語  popularity  vote_average  \n",
       "821    0.000000  0.0    0.075087          0.85  \n",
       "1486   0.000000  0.0    0.028824          0.69  \n",
       "21166  0.025645  0.0    0.029923          0.79  \n",
       "\n",
       "[3 rows x 523 columns]"
      ]
     },
     "execution_count": 42,
     "metadata": {},
     "output_type": "execute_result"
    }
   ],
   "source": [
    "features[df_c['original_title'].isin([\"The Godfather\", \"The Wolf of Wall Street\",\"Guardians Of The Galaxy\",\"Men in Black\"])]"
   ]
  },
  {
   "cell_type": "code",
   "execution_count": 43,
   "id": "56731774",
   "metadata": {
    "execution": {
     "iopub.execute_input": "2025-06-22T16:43:37.999495Z",
     "iopub.status.busy": "2025-06-22T16:43:37.998903Z",
     "iopub.status.idle": "2025-06-22T16:43:38.005392Z",
     "shell.execute_reply": "2025-06-22T16:43:38.004923Z"
    },
    "papermill": {
     "duration": 0.046032,
     "end_time": "2025-06-22T16:43:38.006393",
     "exception": false,
     "start_time": "2025-06-22T16:43:37.960361",
     "status": "completed"
    },
    "tags": []
   },
   "outputs": [],
   "source": [
    "from sklearn.metrics.pairwise import cosine_similarity\n",
    "\n",
    "def get_recommendations(liked_titles, liked_genres, features, df_c, model, genre_columns, top_n=10,\n",
    "                        movie_weight=0.7, genre_weight=0.3):\n",
    "    \"\"\"\n",
    "    Generate movie recommendations based on liked movie titles and genres.\n",
    "\n",
    "    Parameters:\n",
    "    - liked_titles (list): List of movie titles the user likes.\n",
    "    - liked_genres (list): List of genres the user likes (strings).\n",
    "    - features (DataFrame): Full feature matrix used for model input.\n",
    "    - df_c (DataFrame): Original movie metadata (should include 'original_title').\n",
    "    - model (keras Model): Trained autoencoder model.\n",
    "    - genre_columns (list): List of genre one-hot column names.\n",
    "    - top_n (int): Number of top recommendations to return.\n",
    "    - movie_weight (float): Weight for movie-based user profile.\n",
    "    - genre_weight (float): Weight for genre-based user profile.\n",
    "\n",
    "    Returns:\n",
    "    - DataFrame of top recommended movies with similarity scores.\n",
    "    \"\"\"\n",
    "    # 1. Get liked movie vectors\n",
    "    liked_movie_vectors = features[df_c['original_title'].isin(liked_titles)]\n",
    "\n",
    "    if liked_movie_vectors.empty:\n",
    "        raise ValueError(\"None of the liked titles found in the dataset.\")\n",
    "\n",
    "    # 2. Create average movie profile\n",
    "    liked_movie_mean = liked_movie_vectors.mean()\n",
    "\n",
    "    # 3. Create genre preference vector\n",
    "    genre_vector = pd.Series([0.0] * len(genre_columns), index=genre_columns)\n",
    "    for g in liked_genres:\n",
    "        if g in genre_vector:\n",
    "            genre_vector[g] = 1.0\n",
    "\n",
    "    # 4. Broadcast genre_vector to full feature size\n",
    "    genre_vector_full = pd.Series([0.0] * features.shape[1], index=features.columns)\n",
    "    genre_vector_full.update(genre_vector)\n",
    "\n",
    "    # 5. Combine movie and genre profiles\n",
    "    user_profile_series = movie_weight * liked_movie_mean + genre_weight * genre_vector_full\n",
    "    user_profile = user_profile_series.values.reshape(1, -1)\n",
    "\n",
    "    # 6. Get embeddings\n",
    "    movie_embeddings = model.predict(features.values)\n",
    "    user_embedding = model.predict(user_profile)\n",
    "\n",
    "    # 7. Compute cosine similarities\n",
    "    sim_scores = cosine_similarity(user_embedding, movie_embeddings).flatten()\n",
    "\n",
    "    # 8. Attach scores and sort\n",
    "    df_c['score'] = sim_scores\n",
    "    recommendations = df_c.sort_values(by='score', ascending=False)\n",
    "\n",
    "    return recommendations[['original_title', 'score']].head(top_n)\n"
   ]
  },
  {
   "cell_type": "code",
   "execution_count": 44,
   "id": "f67ca145",
   "metadata": {
    "execution": {
     "iopub.execute_input": "2025-06-22T16:43:38.082200Z",
     "iopub.status.busy": "2025-06-22T16:43:38.082000Z",
     "iopub.status.idle": "2025-06-22T16:43:41.075886Z",
     "shell.execute_reply": "2025-06-22T16:43:41.074935Z"
    },
    "papermill": {
     "duration": 3.033516,
     "end_time": "2025-06-22T16:43:41.077158",
     "exception": false,
     "start_time": "2025-06-22T16:43:38.043642",
     "status": "completed"
    },
    "tags": []
   },
   "outputs": [
    {
     "name": "stdout",
     "output_type": "stream",
     "text": [
      "\u001b[1m1325/1325\u001b[0m \u001b[32m━━━━━━━━━━━━━━━━━━━━\u001b[0m\u001b[37m\u001b[0m \u001b[1m2s\u001b[0m 1ms/step\n",
      "\u001b[1m1/1\u001b[0m \u001b[32m━━━━━━━━━━━━━━━━━━━━\u001b[0m\u001b[37m\u001b[0m \u001b[1m0s\u001b[0m 32ms/step\n",
      "                original_title     score\n",
      "21166  The Wolf of Wall Street  0.937495\n",
      "1172                 The Sting  0.923637\n",
      "3455          Monsieur Verdoux  0.915458\n",
      "36997                 War Dogs  0.912941\n",
      "25328           Jimmy the Gent  0.904422\n",
      "5671               Adaptation.  0.900159\n",
      "13424             Blonde Crazy  0.897435\n",
      "10925      Ensayo de un crimen  0.892316\n",
      "11999                In Bruges  0.881928\n",
      "6685    Les Invasions barbares  0.871835\n"
     ]
    }
   ],
   "source": [
    "liked_titles = [\"The Godfather\", \"The Wolf of Wall Street\",\"Guardians Of The Galaxy\",\"Men in Black\"]\n",
    "liked_genres = [\"Crime\", \"Drama\",\"Horror\",\"Adventure\"]\n",
    "\n",
    "recs = get_recommendations(\n",
    "    liked_titles=liked_titles,\n",
    "    liked_genres=liked_genres,\n",
    "    features=features,\n",
    "    df_c=df_c,\n",
    "    model=model,\n",
    "    genre_columns=genre_df.columns.tolist(),  # Your one-hot genre cols\n",
    "    top_n=10\n",
    ")\n",
    "\n",
    "print(recs)\n"
   ]
  },
  {
   "cell_type": "code",
   "execution_count": 45,
   "id": "f5819d63",
   "metadata": {
    "execution": {
     "iopub.execute_input": "2025-06-22T16:43:41.161058Z",
     "iopub.status.busy": "2025-06-22T16:43:41.160597Z",
     "iopub.status.idle": "2025-06-22T16:43:47.861251Z",
     "shell.execute_reply": "2025-06-22T16:43:47.860439Z"
    },
    "papermill": {
     "duration": 6.745159,
     "end_time": "2025-06-22T16:43:47.862751",
     "exception": false,
     "start_time": "2025-06-22T16:43:41.117592",
     "status": "completed"
    },
    "tags": []
   },
   "outputs": [
    {
     "name": "stdout",
     "output_type": "stream",
     "text": [
      "Collecting streamlit\r\n",
      "  Downloading streamlit-1.46.0-py3-none-any.whl.metadata (9.0 kB)\r\n",
      "Requirement already satisfied: altair<6,>=4.0 in /usr/local/lib/python3.11/dist-packages (from streamlit) (5.5.0)\r\n",
      "Requirement already satisfied: blinker<2,>=1.5.0 in /usr/local/lib/python3.11/dist-packages (from streamlit) (1.9.0)\r\n",
      "Requirement already satisfied: cachetools<7,>=4.0 in /usr/local/lib/python3.11/dist-packages (from streamlit) (5.5.2)\r\n",
      "Requirement already satisfied: click<9,>=7.0 in /usr/local/lib/python3.11/dist-packages (from streamlit) (8.1.8)\r\n",
      "Requirement already satisfied: numpy<3,>=1.23 in /usr/local/lib/python3.11/dist-packages (from streamlit) (1.26.4)\r\n",
      "Requirement already satisfied: packaging<26,>=20 in /usr/local/lib/python3.11/dist-packages (from streamlit) (25.0)\r\n",
      "Requirement already satisfied: pandas<3,>=1.4.0 in /usr/local/lib/python3.11/dist-packages (from streamlit) (2.2.3)\r\n",
      "Requirement already satisfied: pillow<12,>=7.1.0 in /usr/local/lib/python3.11/dist-packages (from streamlit) (11.1.0)\r\n",
      "Requirement already satisfied: protobuf<7,>=3.20 in /usr/local/lib/python3.11/dist-packages (from streamlit) (3.20.3)\r\n",
      "Requirement already satisfied: pyarrow>=7.0 in /usr/local/lib/python3.11/dist-packages (from streamlit) (19.0.1)\r\n",
      "Requirement already satisfied: requests<3,>=2.27 in /usr/local/lib/python3.11/dist-packages (from streamlit) (2.32.3)\r\n",
      "Requirement already satisfied: tenacity<10,>=8.1.0 in /usr/local/lib/python3.11/dist-packages (from streamlit) (9.1.2)\r\n",
      "Requirement already satisfied: toml<2,>=0.10.1 in /usr/local/lib/python3.11/dist-packages (from streamlit) (0.10.2)\r\n",
      "Requirement already satisfied: typing-extensions<5,>=4.4.0 in /usr/local/lib/python3.11/dist-packages (from streamlit) (4.13.2)\r\n",
      "Requirement already satisfied: watchdog<7,>=2.1.5 in /usr/local/lib/python3.11/dist-packages (from streamlit) (6.0.0)\r\n",
      "Requirement already satisfied: gitpython!=3.1.19,<4,>=3.0.7 in /usr/local/lib/python3.11/dist-packages (from streamlit) (3.1.44)\r\n",
      "Collecting pydeck<1,>=0.8.0b4 (from streamlit)\r\n",
      "  Downloading pydeck-0.9.1-py2.py3-none-any.whl.metadata (4.1 kB)\r\n",
      "Requirement already satisfied: tornado!=6.5.0,<7,>=6.0.3 in /usr/local/lib/python3.11/dist-packages (from streamlit) (6.4.2)\r\n",
      "Requirement already satisfied: jinja2 in /usr/local/lib/python3.11/dist-packages (from altair<6,>=4.0->streamlit) (3.1.6)\r\n",
      "Requirement already satisfied: jsonschema>=3.0 in /usr/local/lib/python3.11/dist-packages (from altair<6,>=4.0->streamlit) (4.23.0)\r\n",
      "Requirement already satisfied: narwhals>=1.14.2 in /usr/local/lib/python3.11/dist-packages (from altair<6,>=4.0->streamlit) (1.33.0)\r\n",
      "Requirement already satisfied: gitdb<5,>=4.0.1 in /usr/local/lib/python3.11/dist-packages (from gitpython!=3.1.19,<4,>=3.0.7->streamlit) (4.0.12)\r\n",
      "Requirement already satisfied: mkl_fft in /usr/local/lib/python3.11/dist-packages (from numpy<3,>=1.23->streamlit) (1.3.8)\r\n",
      "Requirement already satisfied: mkl_random in /usr/local/lib/python3.11/dist-packages (from numpy<3,>=1.23->streamlit) (1.2.4)\r\n",
      "Requirement already satisfied: mkl_umath in /usr/local/lib/python3.11/dist-packages (from numpy<3,>=1.23->streamlit) (0.1.1)\r\n",
      "Requirement already satisfied: mkl in /usr/local/lib/python3.11/dist-packages (from numpy<3,>=1.23->streamlit) (2025.1.0)\r\n",
      "Requirement already satisfied: tbb4py in /usr/local/lib/python3.11/dist-packages (from numpy<3,>=1.23->streamlit) (2022.1.0)\r\n",
      "Requirement already satisfied: mkl-service in /usr/local/lib/python3.11/dist-packages (from numpy<3,>=1.23->streamlit) (2.4.1)\r\n",
      "Requirement already satisfied: python-dateutil>=2.8.2 in /usr/local/lib/python3.11/dist-packages (from pandas<3,>=1.4.0->streamlit) (2.9.0.post0)\r\n",
      "Requirement already satisfied: pytz>=2020.1 in /usr/local/lib/python3.11/dist-packages (from pandas<3,>=1.4.0->streamlit) (2025.2)\r\n",
      "Requirement already satisfied: tzdata>=2022.7 in /usr/local/lib/python3.11/dist-packages (from pandas<3,>=1.4.0->streamlit) (2025.2)\r\n",
      "Requirement already satisfied: charset-normalizer<4,>=2 in /usr/local/lib/python3.11/dist-packages (from requests<3,>=2.27->streamlit) (3.4.2)\r\n",
      "Requirement already satisfied: idna<4,>=2.5 in /usr/local/lib/python3.11/dist-packages (from requests<3,>=2.27->streamlit) (3.10)\r\n",
      "Requirement already satisfied: urllib3<3,>=1.21.1 in /usr/local/lib/python3.11/dist-packages (from requests<3,>=2.27->streamlit) (2.4.0)\r\n",
      "Requirement already satisfied: certifi>=2017.4.17 in /usr/local/lib/python3.11/dist-packages (from requests<3,>=2.27->streamlit) (2025.4.26)\r\n",
      "Requirement already satisfied: smmap<6,>=3.0.1 in /usr/local/lib/python3.11/dist-packages (from gitdb<5,>=4.0.1->gitpython!=3.1.19,<4,>=3.0.7->streamlit) (5.0.2)\r\n",
      "Requirement already satisfied: MarkupSafe>=2.0 in /usr/local/lib/python3.11/dist-packages (from jinja2->altair<6,>=4.0->streamlit) (3.0.2)\r\n",
      "Requirement already satisfied: attrs>=22.2.0 in /usr/local/lib/python3.11/dist-packages (from jsonschema>=3.0->altair<6,>=4.0->streamlit) (25.3.0)\r\n",
      "Requirement already satisfied: jsonschema-specifications>=2023.03.6 in /usr/local/lib/python3.11/dist-packages (from jsonschema>=3.0->altair<6,>=4.0->streamlit) (2024.10.1)\r\n",
      "Requirement already satisfied: referencing>=0.28.4 in /usr/local/lib/python3.11/dist-packages (from jsonschema>=3.0->altair<6,>=4.0->streamlit) (0.36.2)\r\n",
      "Requirement already satisfied: rpds-py>=0.7.1 in /usr/local/lib/python3.11/dist-packages (from jsonschema>=3.0->altair<6,>=4.0->streamlit) (0.24.0)\r\n",
      "Requirement already satisfied: six>=1.5 in /usr/local/lib/python3.11/dist-packages (from python-dateutil>=2.8.2->pandas<3,>=1.4.0->streamlit) (1.17.0)\r\n",
      "Requirement already satisfied: intel-openmp<2026,>=2024 in /usr/local/lib/python3.11/dist-packages (from mkl->numpy<3,>=1.23->streamlit) (2024.2.0)\r\n",
      "Requirement already satisfied: tbb==2022.* in /usr/local/lib/python3.11/dist-packages (from mkl->numpy<3,>=1.23->streamlit) (2022.1.0)\r\n",
      "Requirement already satisfied: tcmlib==1.* in /usr/local/lib/python3.11/dist-packages (from tbb==2022.*->mkl->numpy<3,>=1.23->streamlit) (1.3.0)\r\n",
      "Requirement already satisfied: intel-cmplr-lib-rt in /usr/local/lib/python3.11/dist-packages (from mkl_umath->numpy<3,>=1.23->streamlit) (2024.2.0)\r\n",
      "Requirement already satisfied: intel-cmplr-lib-ur==2024.2.0 in /usr/local/lib/python3.11/dist-packages (from intel-openmp<2026,>=2024->mkl->numpy<3,>=1.23->streamlit) (2024.2.0)\r\n",
      "Downloading streamlit-1.46.0-py3-none-any.whl (10.1 MB)\r\n",
      "\u001b[2K   \u001b[90m━━━━━━━━━━━━━━━━━━━━━━━━━━━━━━━━━━━━━━━━\u001b[0m \u001b[32m10.1/10.1 MB\u001b[0m \u001b[31m60.0 MB/s\u001b[0m eta \u001b[36m0:00:00\u001b[0m\r\n",
      "\u001b[?25hDownloading pydeck-0.9.1-py2.py3-none-any.whl (6.9 MB)\r\n",
      "\u001b[2K   \u001b[90m━━━━━━━━━━━━━━━━━━━━━━━━━━━━━━━━━━━━━━━━\u001b[0m \u001b[32m6.9/6.9 MB\u001b[0m \u001b[31m98.3 MB/s\u001b[0m eta \u001b[36m0:00:00\u001b[0m\r\n",
      "\u001b[?25hInstalling collected packages: pydeck, streamlit\r\n",
      "Successfully installed pydeck-0.9.1 streamlit-1.46.0\r\n"
     ]
    }
   ],
   "source": [
    "!pip install streamlit"
   ]
  },
  {
   "cell_type": "code",
   "execution_count": 46,
   "id": "76ffe4e9",
   "metadata": {
    "execution": {
     "iopub.execute_input": "2025-06-22T16:43:47.946031Z",
     "iopub.status.busy": "2025-06-22T16:43:47.945759Z",
     "iopub.status.idle": "2025-06-22T16:43:52.067452Z",
     "shell.execute_reply": "2025-06-22T16:43:52.066673Z"
    },
    "papermill": {
     "duration": 4.164207,
     "end_time": "2025-06-22T16:43:52.068611",
     "exception": false,
     "start_time": "2025-06-22T16:43:47.904404",
     "status": "completed"
    },
    "tags": []
   },
   "outputs": [
    {
     "name": "stdout",
     "output_type": "stream",
     "text": [
      "\u001b[1m1325/1325\u001b[0m \u001b[32m━━━━━━━━━━━━━━━━━━━━\u001b[0m\u001b[37m\u001b[0m \u001b[1m2s\u001b[0m 1ms/step\n"
     ]
    },
    {
     "name": "stderr",
     "output_type": "stream",
     "text": [
      "2025-06-22 16:43:51.583 WARNING streamlit.runtime.scriptrunner_utils.script_run_context: Thread 'MainThread': missing ScriptRunContext! This warning can be ignored when running in bare mode.\n",
      "2025-06-22 16:43:51.584 WARNING streamlit.runtime.scriptrunner_utils.script_run_context: Thread 'MainThread': missing ScriptRunContext! This warning can be ignored when running in bare mode.\n",
      "2025-06-22 16:43:51.981 \n",
      "  \u001b[33m\u001b[1mWarning:\u001b[0m to view this Streamlit app on a browser, run it with the following\n",
      "  command:\n",
      "\n",
      "    streamlit run /usr/local/lib/python3.11/dist-packages/colab_kernel_launcher.py [ARGUMENTS]\n",
      "2025-06-22 16:43:51.982 Thread 'MainThread': missing ScriptRunContext! This warning can be ignored when running in bare mode.\n",
      "2025-06-22 16:43:51.982 Thread 'MainThread': missing ScriptRunContext! This warning can be ignored when running in bare mode.\n",
      "2025-06-22 16:43:52.014 Thread 'MainThread': missing ScriptRunContext! This warning can be ignored when running in bare mode.\n",
      "2025-06-22 16:43:52.014 Thread 'MainThread': missing ScriptRunContext! This warning can be ignored when running in bare mode.\n",
      "2025-06-22 16:43:52.023 Thread 'MainThread': missing ScriptRunContext! This warning can be ignored when running in bare mode.\n",
      "2025-06-22 16:43:52.048 Thread 'MainThread': missing ScriptRunContext! This warning can be ignored when running in bare mode.\n",
      "2025-06-22 16:43:52.049 Thread 'MainThread': missing ScriptRunContext! This warning can be ignored when running in bare mode.\n",
      "2025-06-22 16:43:52.054 Thread 'MainThread': missing ScriptRunContext! This warning can be ignored when running in bare mode.\n",
      "2025-06-22 16:43:52.056 Thread 'MainThread': missing ScriptRunContext! This warning can be ignored when running in bare mode.\n",
      "2025-06-22 16:43:52.056 Thread 'MainThread': missing ScriptRunContext! This warning can be ignored when running in bare mode.\n",
      "2025-06-22 16:43:52.057 Thread 'MainThread': missing ScriptRunContext! This warning can be ignored when running in bare mode.\n",
      "2025-06-22 16:43:52.058 Thread 'MainThread': missing ScriptRunContext! This warning can be ignored when running in bare mode.\n",
      "2025-06-22 16:43:52.058 Thread 'MainThread': missing ScriptRunContext! This warning can be ignored when running in bare mode.\n",
      "2025-06-22 16:43:52.059 Thread 'MainThread': missing ScriptRunContext! This warning can be ignored when running in bare mode.\n",
      "2025-06-22 16:43:52.060 Thread 'MainThread': missing ScriptRunContext! This warning can be ignored when running in bare mode.\n",
      "2025-06-22 16:43:52.060 Thread 'MainThread': missing ScriptRunContext! This warning can be ignored when running in bare mode.\n",
      "2025-06-22 16:43:52.061 Thread 'MainThread': missing ScriptRunContext! This warning can be ignored when running in bare mode.\n",
      "2025-06-22 16:43:52.061 Thread 'MainThread': missing ScriptRunContext! This warning can be ignored when running in bare mode.\n",
      "2025-06-22 16:43:52.062 Thread 'MainThread': missing ScriptRunContext! This warning can be ignored when running in bare mode.\n",
      "2025-06-22 16:43:52.063 Thread 'MainThread': missing ScriptRunContext! This warning can be ignored when running in bare mode.\n"
     ]
    }
   ],
   "source": [
    "import streamlit as st\n",
    "import pandas as pd\n",
    "import numpy as np\n",
    "from sklearn.metrics.pairwise import cosine_similarity\n",
    "from tensorflow.keras.models import load_model\n",
    "\n",
    "# Load preprocessed data\n",
    "# Assuming these were saved after training\n",
    "#features = pd.read_pickle(\"features.pkl\")     # Your features with genres\n",
    "#df_c = pd.read_pickle(\"df_c.pkl\")             # Original metadata with titles, etc.\n",
    "#genre_columns = pd.read_pickle(\"genre_columns.pkl\")  # List of one-hot genre columns\n",
    "#model = load_model(\"autoencoder_model.h5\")    # Trained autoencoder model\n",
    "\n",
    "# Precompute embeddings for all movies\n",
    "movie_embeddings = model.predict(features.values)\n",
    "\n",
    "# --- Recommender Function ---\n",
    "def get_recommendations(liked_titles, liked_genres, top_n=10, movie_weight=0.7, genre_weight=0.3):\n",
    "    liked_movie_vectors = features[df_c['original_title'].isin(liked_titles)]\n",
    "    if liked_movie_vectors.empty:\n",
    "        return pd.DataFrame(columns=['original_title', 'score'])\n",
    "\n",
    "    liked_movie_mean = liked_movie_vectors.mean()\n",
    "\n",
    "    # Genre vector\n",
    "    genre_vector = pd.Series([0.0] * len(genre_columns), index=genre_columns)\n",
    "    for g in liked_genres:\n",
    "        if g in genre_vector:\n",
    "            genre_vector[g] = 1.0\n",
    "\n",
    "    genre_vector_full = pd.Series([0.0] * features.shape[1], index=features.columns)\n",
    "    genre_vector_full.update(genre_vector)\n",
    "\n",
    "    user_profile_series = movie_weight * liked_movie_mean + genre_weight * genre_vector_full\n",
    "    user_profile = user_profile_series.values.reshape(1, -1)\n",
    "\n",
    "    user_embedding = model.predict(user_profile)\n",
    "    sim_scores = cosine_similarity(user_embedding, movie_embeddings).flatten()\n",
    "\n",
    "    df_c['score'] = sim_scores\n",
    "    recommendations = df_c.sort_values(by='score', ascending=False)\n",
    "    return recommendations[['original_title', 'score']].head(top_n)\n",
    "\n",
    "# --- Streamlit UI ---\n",
    "st.set_page_config(page_title=\"🎬 Movie Recommender\", layout=\"centered\")\n",
    "st.title(\"🎬 Personalized Movie Recommender\")\n",
    "\n",
    "all_titles = sorted(df_c['original_title'].dropna().unique())\n",
    "liked_titles = st.multiselect(\"Select movies you loved watching:\", all_titles)\n",
    "\n",
    "available_genres = sorted(genre_columns)\n",
    "liked_genres = st.multiselect(\"Select your favorite genres:\", available_genres)\n",
    "\n",
    "if st.button(\"🎯 Recommend\"):\n",
    "    if not liked_titles and not liked_genres:\n",
    "        st.warning(\"Please select at least one movie or genre.\")\n",
    "    else:\n",
    "        with st.spinner(\"Finding the best matches for you...\"):\n",
    "            recs = get_recommendations(liked_titles, liked_genres, top_n=10)\n",
    "        st.success(\"Here are your recommendations:\")\n",
    "        st.table(recs)"
   ]
  },
  {
   "cell_type": "code",
   "execution_count": 47,
   "id": "0223e034",
   "metadata": {
    "execution": {
     "iopub.execute_input": "2025-06-22T16:43:52.157627Z",
     "iopub.status.busy": "2025-06-22T16:43:52.157377Z",
     "iopub.status.idle": "2025-06-22T16:43:52.358700Z",
     "shell.execute_reply": "2025-06-22T16:43:52.357918Z"
    },
    "papermill": {
     "duration": 0.24602,
     "end_time": "2025-06-22T16:43:52.360154",
     "exception": false,
     "start_time": "2025-06-22T16:43:52.114134",
     "status": "completed"
    },
    "tags": []
   },
   "outputs": [],
   "source": [
    "# Save features DataFrame\n",
    "features.to_pickle(\"features.pkl\")\n",
    "\n",
    "\n",
    "\n",
    "# Save genre column names\n",
    "import pickle\n",
    "with open(\"genre_columns.pkl\", \"wb\") as f:\n",
    "    pickle.dump(genre_columns, f)\n",
    "\n",
    "# Save the trained model\n",
    "model.save(\"autoencoder_model.h5\")\n"
   ]
  },
  {
   "cell_type": "code",
   "execution_count": 48,
   "id": "060d8587",
   "metadata": {
    "execution": {
     "iopub.execute_input": "2025-06-22T16:43:52.447778Z",
     "iopub.status.busy": "2025-06-22T16:43:52.447543Z",
     "iopub.status.idle": "2025-06-22T16:43:52.451348Z",
     "shell.execute_reply": "2025-06-22T16:43:52.450815Z"
    },
    "papermill": {
     "duration": 0.048221,
     "end_time": "2025-06-22T16:43:52.452432",
     "exception": false,
     "start_time": "2025-06-22T16:43:52.404211",
     "status": "completed"
    },
    "tags": []
   },
   "outputs": [
    {
     "name": "stdout",
     "output_type": "stream",
     "text": [
      "3.11.11 (main, Dec  4 2024, 08:55:07) [GCC 11.4.0]\n"
     ]
    }
   ],
   "source": [
    "import sys\n",
    "print(sys.version)\n"
   ]
  },
  {
   "cell_type": "code",
   "execution_count": 49,
   "id": "0fe29295",
   "metadata": {
    "execution": {
     "iopub.execute_input": "2025-06-22T16:43:52.540689Z",
     "iopub.status.busy": "2025-06-22T16:43:52.539993Z",
     "iopub.status.idle": "2025-06-22T16:43:52.544355Z",
     "shell.execute_reply": "2025-06-22T16:43:52.543511Z"
    },
    "papermill": {
     "duration": 0.049572,
     "end_time": "2025-06-22T16:43:52.545711",
     "exception": false,
     "start_time": "2025-06-22T16:43:52.496139",
     "status": "completed"
    },
    "tags": []
   },
   "outputs": [
    {
     "name": "stdout",
     "output_type": "stream",
     "text": [
      "2.18.0\n"
     ]
    }
   ],
   "source": [
    "import tensorflow as tf\n",
    "print(tf.__version__)\n"
   ]
  },
  {
   "cell_type": "code",
   "execution_count": 50,
   "id": "f821934d",
   "metadata": {
    "execution": {
     "iopub.execute_input": "2025-06-22T16:43:52.631412Z",
     "iopub.status.busy": "2025-06-22T16:43:52.631206Z",
     "iopub.status.idle": "2025-06-22T16:43:52.654146Z",
     "shell.execute_reply": "2025-06-22T16:43:52.653360Z"
    },
    "papermill": {
     "duration": 0.067184,
     "end_time": "2025-06-22T16:43:52.655330",
     "exception": true,
     "start_time": "2025-06-22T16:43:52.588146",
     "status": "failed"
    },
    "tags": []
   },
   "outputs": [
    {
     "ename": "FileNotFoundError",
     "evalue": "[Errno 2] No such file or directory: 'df_c.pkl'",
     "output_type": "error",
     "traceback": [
      "\u001b[0;31m---------------------------------------------------------------------------\u001b[0m",
      "\u001b[0;31mFileNotFoundError\u001b[0m                         Traceback (most recent call last)",
      "\u001b[0;32m/tmp/ipykernel_19/2156517658.py\u001b[0m in \u001b[0;36m<cell line: 0>\u001b[0;34m()\u001b[0m\n\u001b[1;32m      2\u001b[0m \u001b[0;34m\u001b[0m\u001b[0m\n\u001b[1;32m      3\u001b[0m \u001b[0;32mwith\u001b[0m \u001b[0mzipfile\u001b[0m\u001b[0;34m.\u001b[0m\u001b[0mZipFile\u001b[0m\u001b[0;34m(\u001b[0m\u001b[0;34m\"data_file.zip\"\u001b[0m\u001b[0;34m,\u001b[0m \u001b[0;34m\"w\"\u001b[0m\u001b[0;34m,\u001b[0m \u001b[0mcompression\u001b[0m\u001b[0;34m=\u001b[0m\u001b[0mzipfile\u001b[0m\u001b[0;34m.\u001b[0m\u001b[0mZIP_DEFLATED\u001b[0m\u001b[0;34m)\u001b[0m \u001b[0;32mas\u001b[0m \u001b[0mzipf\u001b[0m\u001b[0;34m:\u001b[0m\u001b[0;34m\u001b[0m\u001b[0;34m\u001b[0m\u001b[0m\n\u001b[0;32m----> 4\u001b[0;31m     \u001b[0mzipf\u001b[0m\u001b[0;34m.\u001b[0m\u001b[0mwrite\u001b[0m\u001b[0;34m(\u001b[0m\u001b[0;34m\"df_c.pkl\"\u001b[0m\u001b[0;34m)\u001b[0m\u001b[0;34m\u001b[0m\u001b[0;34m\u001b[0m\u001b[0m\n\u001b[0m\u001b[1;32m      5\u001b[0m \u001b[0;34m\u001b[0m\u001b[0m\n\u001b[1;32m      6\u001b[0m \u001b[0;34m\u001b[0m\u001b[0m\n",
      "\u001b[0;32m/usr/lib/python3.11/zipfile.py\u001b[0m in \u001b[0;36mwrite\u001b[0;34m(self, filename, arcname, compress_type, compresslevel)\u001b[0m\n\u001b[1;32m   1794\u001b[0m             )\n\u001b[1;32m   1795\u001b[0m \u001b[0;34m\u001b[0m\u001b[0m\n\u001b[0;32m-> 1796\u001b[0;31m         zinfo = ZipInfo.from_file(filename, arcname,\n\u001b[0m\u001b[1;32m   1797\u001b[0m                                   strict_timestamps=self._strict_timestamps)\n\u001b[1;32m   1798\u001b[0m \u001b[0;34m\u001b[0m\u001b[0m\n",
      "\u001b[0;32m/usr/lib/python3.11/zipfile.py\u001b[0m in \u001b[0;36mfrom_file\u001b[0;34m(cls, filename, arcname, strict_timestamps)\u001b[0m\n\u001b[1;32m    533\u001b[0m         \u001b[0;32mif\u001b[0m \u001b[0misinstance\u001b[0m\u001b[0;34m(\u001b[0m\u001b[0mfilename\u001b[0m\u001b[0;34m,\u001b[0m \u001b[0mos\u001b[0m\u001b[0;34m.\u001b[0m\u001b[0mPathLike\u001b[0m\u001b[0;34m)\u001b[0m\u001b[0;34m:\u001b[0m\u001b[0;34m\u001b[0m\u001b[0;34m\u001b[0m\u001b[0m\n\u001b[1;32m    534\u001b[0m             \u001b[0mfilename\u001b[0m \u001b[0;34m=\u001b[0m \u001b[0mos\u001b[0m\u001b[0;34m.\u001b[0m\u001b[0mfspath\u001b[0m\u001b[0;34m(\u001b[0m\u001b[0mfilename\u001b[0m\u001b[0;34m)\u001b[0m\u001b[0;34m\u001b[0m\u001b[0;34m\u001b[0m\u001b[0m\n\u001b[0;32m--> 535\u001b[0;31m         \u001b[0mst\u001b[0m \u001b[0;34m=\u001b[0m \u001b[0mos\u001b[0m\u001b[0;34m.\u001b[0m\u001b[0mstat\u001b[0m\u001b[0;34m(\u001b[0m\u001b[0mfilename\u001b[0m\u001b[0;34m)\u001b[0m\u001b[0;34m\u001b[0m\u001b[0;34m\u001b[0m\u001b[0m\n\u001b[0m\u001b[1;32m    536\u001b[0m         \u001b[0misdir\u001b[0m \u001b[0;34m=\u001b[0m \u001b[0mstat\u001b[0m\u001b[0;34m.\u001b[0m\u001b[0mS_ISDIR\u001b[0m\u001b[0;34m(\u001b[0m\u001b[0mst\u001b[0m\u001b[0;34m.\u001b[0m\u001b[0mst_mode\u001b[0m\u001b[0;34m)\u001b[0m\u001b[0;34m\u001b[0m\u001b[0;34m\u001b[0m\u001b[0m\n\u001b[1;32m    537\u001b[0m         \u001b[0mmtime\u001b[0m \u001b[0;34m=\u001b[0m \u001b[0mtime\u001b[0m\u001b[0;34m.\u001b[0m\u001b[0mlocaltime\u001b[0m\u001b[0;34m(\u001b[0m\u001b[0mst\u001b[0m\u001b[0;34m.\u001b[0m\u001b[0mst_mtime\u001b[0m\u001b[0;34m)\u001b[0m\u001b[0;34m\u001b[0m\u001b[0;34m\u001b[0m\u001b[0m\n",
      "\u001b[0;31mFileNotFoundError\u001b[0m: [Errno 2] No such file or directory: 'df_c.pkl'"
     ]
    }
   ],
   "source": [
    "import zipfile\n",
    "\n",
    "with zipfile.ZipFile(\"data_file.zip\", \"w\", compression=zipfile.ZIP_DEFLATED) as zipf:\n",
    "    zipf.write(\"df_c.pkl\")\n",
    "\n",
    "  "
   ]
  },
  {
   "cell_type": "code",
   "execution_count": null,
   "id": "e5ece2fd",
   "metadata": {
    "execution": {
     "iopub.execute_input": "2025-06-18T06:09:23.889963Z",
     "iopub.status.busy": "2025-06-18T06:09:23.889672Z",
     "iopub.status.idle": "2025-06-18T06:09:23.953935Z",
     "shell.execute_reply": "2025-06-18T06:09:23.953240Z",
     "shell.execute_reply.started": "2025-06-18T06:09:23.889943Z"
    },
    "papermill": {
     "duration": null,
     "end_time": null,
     "exception": null,
     "start_time": null,
     "status": "pending"
    },
    "tags": []
   },
   "outputs": [],
   "source": [
    "# In training script:\n",
    "model.save(\"autoencoder_model.keras\")  # new recommended format\n"
   ]
  },
  {
   "cell_type": "code",
   "execution_count": null,
   "id": "aa91c256",
   "metadata": {
    "execution": {
     "iopub.execute_input": "2025-06-18T05:58:01.248081Z",
     "iopub.status.busy": "2025-06-18T05:58:01.247796Z",
     "iopub.status.idle": "2025-06-18T05:58:02.989899Z",
     "shell.execute_reply": "2025-06-18T05:58:02.989378Z",
     "shell.execute_reply.started": "2025-06-18T05:58:01.248062Z"
    },
    "papermill": {
     "duration": null,
     "end_time": null,
     "exception": null,
     "start_time": null,
     "status": "pending"
    },
    "tags": []
   },
   "outputs": [],
   "source": [
    "# Path to your .pkl file\n",
    "pkl_file = \"features.pkl\"\n",
    "zip_file = \"features.zip\"\n",
    "\n",
    "# Create a zip archive containing the pkl file\n",
    "with zipfile.ZipFile(zip_file, 'w', zipfile.ZIP_DEFLATED) as zipf:\n",
    "    zipf.write(pkl_file)"
   ]
  },
  {
   "cell_type": "code",
   "execution_count": null,
   "id": "7947c3ab",
   "metadata": {
    "execution": {
     "iopub.execute_input": "2025-06-18T05:38:49.418396Z",
     "iopub.status.busy": "2025-06-18T05:38:49.418026Z",
     "iopub.status.idle": "2025-06-18T05:38:49.570265Z",
     "shell.execute_reply": "2025-06-18T05:38:49.569729Z",
     "shell.execute_reply.started": "2025-06-18T05:38:49.418375Z"
    },
    "papermill": {
     "duration": null,
     "end_time": null,
     "exception": null,
     "start_time": null,
     "status": "pending"
    },
    "tags": []
   },
   "outputs": [],
   "source": [
    "# Save embeddings to a .pkl file\n",
    "with open(\"movie_embeddings.pkl\", \"wb\") as f:\n",
    "    pickle.dump(movie_embeddings, f)"
   ]
  }
 ],
 "metadata": {
  "kaggle": {
   "accelerator": "nvidiaTeslaT4",
   "dataSources": [
    {
     "datasetId": 3405,
     "sourceId": 6663,
     "sourceType": "datasetVersion"
    },
    {
     "datasetId": 339,
     "sourceId": 77759,
     "sourceType": "datasetVersion"
    },
    {
     "datasetId": 7671519,
     "sourceId": 12180543,
     "sourceType": "datasetVersion"
    }
   ],
   "dockerImageVersionId": 31041,
   "isGpuEnabled": true,
   "isInternetEnabled": true,
   "language": "python",
   "sourceType": "notebook"
  },
  "kernelspec": {
   "display_name": "Python 3",
   "language": "python",
   "name": "python3"
  },
  "language_info": {
   "codemirror_mode": {
    "name": "ipython",
    "version": 3
   },
   "file_extension": ".py",
   "mimetype": "text/x-python",
   "name": "python",
   "nbconvert_exporter": "python",
   "pygments_lexer": "ipython3",
   "version": "3.11.11"
  },
  "papermill": {
   "default_parameters": {},
   "duration": 163.011841,
   "end_time": "2025-06-22T16:43:55.817759",
   "environment_variables": {},
   "exception": true,
   "input_path": "__notebook__.ipynb",
   "output_path": "__notebook__.ipynb",
   "parameters": {},
   "start_time": "2025-06-22T16:41:12.805918",
   "version": "2.6.0"
  }
 },
 "nbformat": 4,
 "nbformat_minor": 5
}
